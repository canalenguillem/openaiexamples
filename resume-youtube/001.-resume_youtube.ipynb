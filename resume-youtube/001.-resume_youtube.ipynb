{
 "cells": [
  {
   "cell_type": "code",
   "execution_count": 2,
   "metadata": {},
   "outputs": [
    {
     "name": "stdout",
     "output_type": "stream",
     "text": [
      "La clave de OpenAI se ha cargado correctamente.\n"
     ]
    }
   ],
   "source": [
    "from dotenv import load_dotenv\n",
    "import os\n",
    "\n",
    "# Cargar las variables del archivo .env\n",
    "load_dotenv()\n",
    "\n",
    "# Obtener la clave de OpenAI\n",
    "openai_api_key = os.getenv(\"OPENAI_API_KEY\")\n",
    "\n",
    "# Verifica que la clave se ha cargado correctamente\n",
    "if openai_api_key:\n",
    "    print(\"La clave de OpenAI se ha cargado correctamente.\")\n",
    "else:\n",
    "    print(\"Error al cargar la clave de OpenAI.\")"
   ]
  },
  {
   "cell_type": "code",
   "execution_count": 3,
   "metadata": {},
   "outputs": [],
   "source": [
    "from openai import OpenAI\n",
    "import os\n",
    "client=OpenAI(api_key=openai_api_key)\n",
    "MODEL='gpt-4-turbo'"
   ]
  },
  {
   "cell_type": "code",
   "execution_count": 24,
   "metadata": {},
   "outputs": [
    {
     "name": "stdout",
     "output_type": "stream",
     "text": [
      "[youtube] Extracting URL: https://www.youtube.com/watch?v=G9FRadIkkE0\n",
      "[youtube] G9FRadIkkE0: Downloading webpage\n",
      "[youtube] G9FRadIkkE0: Downloading ios player API JSON\n",
      "[youtube] G9FRadIkkE0: Downloading mweb player API JSON\n",
      "[youtube] G9FRadIkkE0: Downloading m3u8 information\n",
      "Title: Microsoft Recall is MANDATORY\n",
      "Views: 233696\n",
      "Length: 299 seconds\n",
      "Thumbnail: https://i.ytimg.com/vi/G9FRadIkkE0/maxresdefault.jpg\n"
     ]
    }
   ],
   "source": [
    "import yt_dlp\n",
    "\n",
    "# URL del vídeo de YouTube\n",
    "url = \"https://www.youtube.com/watch?v=G9FRadIkkE0\"\n",
    "\n",
    "# Usar yt-dlp para obtener la información del vídeo\n",
    "ydl_opts = {}\n",
    "with yt_dlp.YoutubeDL(ydl_opts) as ydl:\n",
    "    info_dict = ydl.extract_info(url, download=False)\n",
    "    video_title = info_dict.get('title', None)\n",
    "    video_views = info_dict.get('view_count', None)\n",
    "    video_length = info_dict.get('duration', None)\n",
    "    video_thumbnail = info_dict.get('thumbnail', None)\n",
    "\n",
    "# Imprimir la información obtenida\n",
    "print(f\"Title: {video_title}\")\n",
    "print(f\"Views: {video_views}\")\n",
    "print(f\"Length: {video_length} seconds\")\n",
    "print(f\"Thumbnail: {video_thumbnail}\")\n"
   ]
  },
  {
   "cell_type": "code",
   "execution_count": 25,
   "metadata": {},
   "outputs": [
    {
     "name": "stdout",
     "output_type": "stream",
     "text": [
      "[youtube] Extracting URL: https://www.youtube.com/watch?v=G9FRadIkkE0\n",
      "[youtube] G9FRadIkkE0: Downloading webpage\n",
      "[youtube] G9FRadIkkE0: Downloading ios player API JSON\n",
      "[youtube] G9FRadIkkE0: Downloading mweb player API JSON\n",
      "[youtube] G9FRadIkkE0: Downloading m3u8 information\n",
      "[info] G9FRadIkkE0: Downloading 1 format(s): 18\n",
      "[download] Destination: Microsoft Recall is MANDATORY.mp4\n",
      "[download] 100% of   10.79MiB in 00:00:00 at 18.08MiB/s    \n"
     ]
    }
   ],
   "source": [
    "#descargar vídeo con yt-dlp\n",
    "\n",
    "# Opciones para descargar el vídeo\n",
    "ydl_opts = {\n",
    "    'format': 'best',  # Seleccionar la mejor calidad disponible\n",
    "    'outtmpl': '%(title)s.%(ext)s',  # Guardar el archivo con el título del vídeo\n",
    "}\n",
    "\n",
    "# Descargar el vídeo\n",
    "with yt_dlp.YoutubeDL(ydl_opts) as ydl:\n",
    "    ydl.download([url])\n"
   ]
  },
  {
   "cell_type": "code",
   "execution_count": 43,
   "metadata": {},
   "outputs": [],
   "source": [
    "import yt_dlp\n",
    "import re\n",
    "\n",
    "def descargar_solo_audio(url):\n",
    "    # Función para limpiar el título del vídeo\n",
    "    def sanitize_filename(filename):\n",
    "        # Reemplaza los espacios por guiones bajos\n",
    "        filename = filename.replace(\" \", \"_\")\n",
    "        # Elimina caracteres no alfanuméricos, dejando solo letras, números y guiones bajos\n",
    "        filename = re.sub(r'[^\\w-]', '', filename)\n",
    "        return filename\n",
    "\n",
    "    print(\"descargar_solo_audio...\")\n",
    "\n",
    "    # Obtener la información del vídeo y el título\n",
    "    ydl_opts_info = {}\n",
    "    with yt_dlp.YoutubeDL(ydl_opts_info) as ydl:\n",
    "        info_dict = ydl.extract_info(url, download=False)\n",
    "        video_title = info_dict.get('title', None)\n",
    "\n",
    "    # Limpiar el título del vídeo\n",
    "    clean_title = sanitize_filename(video_title)\n",
    "\n",
    "    # Opciones para descargar solo el audio\n",
    "    ydl_opts = {\n",
    "        'format': 'bestaudio/best',  # Descargar la mejor calidad de audio disponible\n",
    "        'postprocessors': [{\n",
    "            'key': 'FFmpegExtractAudio',\n",
    "            'preferredcodec': 'mp3',  # Puedes cambiar a 'wav' o 'm4a' si prefieres otro formato\n",
    "            'preferredquality': '192',  # Calidad de audio\n",
    "        }],\n",
    "        'outtmpl': f'{clean_title}.%(ext)s',  # Guardar el archivo con el título limpio\n",
    "        'quiet': True,  # Esta opción desactiva los mensajes de yt-dlp\n",
    "        'no_warnings': True  # Desactiva las advertencias\n",
    "    }\n",
    "\n",
    "    # Descargar el audio\n",
    "    with yt_dlp.YoutubeDL(ydl_opts) as ydl:\n",
    "        ydl.download([url])\n",
    "\n",
    "# Devolver el nombre del archivo\n",
    "    filename = f\"{clean_title}.mp3\"\n",
    "    print(f\"Descarga de audio completa. Archivo guardado como: {filename}\")\n",
    "    return filename\n",
    "# Ejemplo de uso:\n",
    "# descargar_solo_audio(\"https://www.youtube.com/watch?v=G9FRadIkkE0\")\n"
   ]
  },
  {
   "cell_type": "code",
   "execution_count": 45,
   "metadata": {},
   "outputs": [
    {
     "name": "stdout",
     "output_type": "stream",
     "text": [
      "descargar_solo_audio...\n",
      "[youtube] Extracting URL: https://www.youtube.com/watch?v=wRsX_ZkzxvQ\n",
      "[youtube] wRsX_ZkzxvQ: Downloading webpage\n"
     ]
    },
    {
     "name": "stdout",
     "output_type": "stream",
     "text": [
      "[youtube] wRsX_ZkzxvQ: Downloading ios player API JSON\n",
      "[youtube] wRsX_ZkzxvQ: Downloading mweb player API JSON\n",
      "[youtube] wRsX_ZkzxvQ: Downloading m3u8 information\n",
      "Descarga de audio completa. Archivo guardado como: Dr_Craig_Koniver_Peptide__Hormone_Therapies_for_Health_Performance__Longevity.mp3\n"
     ]
    }
   ],
   "source": [
    "descargar_solo_audio(\"https://www.youtube.com/watch?v=wRsX_ZkzxvQ\")"
   ]
  },
  {
   "cell_type": "code",
   "execution_count": 46,
   "metadata": {},
   "outputs": [],
   "source": [
    "from openai import OpenAI\n",
    "import os\n",
    "client=OpenAI(api_key=openai_api_key)\n",
    "\n",
    "def transcribe(audio_file):\n",
    "    if not os.path.isfile(audio_file):\n",
    "        print(f\"El archivo {audio_file} no existe.\")\n",
    "        return  False\n",
    "    \n",
    "    with open(audio_file, 'rb') as f:\n",
    "        print(\"Transcribiendo audio...\",end='')\n",
    "        transcript = client.audio.transcriptions.create(\n",
    "            model='whisper-1',\n",
    "            file=f\n",
    "        )\n",
    "\n",
    "\n"
   ]
  },
  {
   "cell_type": "code",
   "execution_count": null,
   "metadata": {},
   "outputs": [],
   "source": []
  }
 ],
 "metadata": {
  "kernelspec": {
   "display_name": ".venv",
   "language": "python",
   "name": "python3"
  },
  "language_info": {
   "codemirror_mode": {
    "name": "ipython",
    "version": 3
   },
   "file_extension": ".py",
   "mimetype": "text/x-python",
   "name": "python",
   "nbconvert_exporter": "python",
   "pygments_lexer": "ipython3",
   "version": "3.11.2"
  }
 },
 "nbformat": 4,
 "nbformat_minor": 2
}
