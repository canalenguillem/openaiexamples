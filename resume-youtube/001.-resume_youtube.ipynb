{
 "cells": [
  {
   "cell_type": "code",
   "execution_count": 1,
   "metadata": {},
   "outputs": [
    {
     "name": "stdout",
     "output_type": "stream",
     "text": [
      "La clave de OpenAI se ha cargado correctamente.\n"
     ]
    }
   ],
   "source": [
    "from dotenv import load_dotenv\n",
    "import os\n",
    "\n",
    "# Cargar las variables del archivo .env\n",
    "load_dotenv()\n",
    "\n",
    "# Obtener la clave de OpenAI\n",
    "openai_api_key = os.getenv(\"OPENAI_API_KEY\")\n",
    "\n",
    "# Verifica que la clave se ha cargado correctamente\n",
    "if openai_api_key:\n",
    "    print(\"La clave de OpenAI se ha cargado correctamente.\")\n",
    "else:\n",
    "    print(\"Error al cargar la clave de OpenAI.\")"
   ]
  },
  {
   "cell_type": "code",
   "execution_count": 2,
   "metadata": {},
   "outputs": [],
   "source": [
    "from openai import OpenAI\n",
    "import os\n",
    "client=OpenAI(api_key=openai_api_key)\n",
    "MODEL='gpt-4-turbo'"
   ]
  },
  {
   "cell_type": "code",
   "execution_count": 3,
   "metadata": {},
   "outputs": [
    {
     "name": "stdout",
     "output_type": "stream",
     "text": [
      "[youtube] Extracting URL: https://www.youtube.com/watch?v=G9FRadIkkE0\n",
      "[youtube] G9FRadIkkE0: Downloading webpage\n",
      "[youtube] G9FRadIkkE0: Downloading ios player API JSON\n",
      "[youtube] G9FRadIkkE0: Downloading mweb player API JSON\n",
      "[youtube] G9FRadIkkE0: Downloading m3u8 information\n",
      "Title: Microsoft Recall is MANDATORY\n",
      "Views: 234578\n",
      "Length: 299 seconds\n",
      "Thumbnail: https://i.ytimg.com/vi/G9FRadIkkE0/maxresdefault.jpg\n"
     ]
    }
   ],
   "source": [
    "import yt_dlp\n",
    "\n",
    "# URL del vídeo de YouTube\n",
    "url = \"https://www.youtube.com/watch?v=G9FRadIkkE0\"\n",
    "\n",
    "# Usar yt-dlp para obtener la información del vídeo\n",
    "ydl_opts = {}\n",
    "with yt_dlp.YoutubeDL(ydl_opts) as ydl:\n",
    "    info_dict = ydl.extract_info(url, download=False)\n",
    "    video_title = info_dict.get('title', None)\n",
    "    video_views = info_dict.get('view_count', None)\n",
    "    video_length = info_dict.get('duration', None)\n",
    "    video_thumbnail = info_dict.get('thumbnail', None)\n",
    "\n",
    "# Imprimir la información obtenida\n",
    "print(f\"Title: {video_title}\")\n",
    "print(f\"Views: {video_views}\")\n",
    "print(f\"Length: {video_length} seconds\")\n",
    "print(f\"Thumbnail: {video_thumbnail}\")\n"
   ]
  },
  {
   "cell_type": "code",
   "execution_count": 4,
   "metadata": {},
   "outputs": [
    {
     "name": "stdout",
     "output_type": "stream",
     "text": [
      "[youtube] Extracting URL: https://www.youtube.com/watch?v=G9FRadIkkE0\n",
      "[youtube] G9FRadIkkE0: Downloading webpage\n",
      "[youtube] G9FRadIkkE0: Downloading ios player API JSON\n",
      "[youtube] G9FRadIkkE0: Downloading mweb player API JSON\n",
      "[youtube] G9FRadIkkE0: Downloading m3u8 information\n",
      "[info] G9FRadIkkE0: Downloading 1 format(s): 18\n",
      "[download] Destination: Microsoft Recall is MANDATORY.mp4\n",
      "[download] 100% of   10.79MiB in 00:00:00 at 37.60MiB/s    \n"
     ]
    }
   ],
   "source": [
    "#descargar vídeo con yt-dlp\n",
    "\n",
    "# Opciones para descargar el vídeo\n",
    "ydl_opts = {\n",
    "    'format': 'best',  # Seleccionar la mejor calidad disponible\n",
    "    'outtmpl': '%(title)s.%(ext)s',  # Guardar el archivo con el título del vídeo\n",
    "}\n",
    "\n",
    "# Descargar el vídeo\n",
    "with yt_dlp.YoutubeDL(ydl_opts) as ydl:\n",
    "    ydl.download([url])\n"
   ]
  },
  {
   "cell_type": "code",
   "execution_count": 3,
   "metadata": {},
   "outputs": [],
   "source": [
    "import yt_dlp\n",
    "import re\n",
    "\n",
    "def descargar_solo_audio(url):\n",
    "    # Función para limpiar el título del vídeo\n",
    "    def sanitize_filename(filename):\n",
    "        # Reemplaza los espacios por guiones bajos\n",
    "        filename = filename.replace(\" \", \"_\")\n",
    "        # Elimina caracteres no alfanuméricos, dejando solo letras, números y guiones bajos\n",
    "        filename = re.sub(r'[^\\w-]', '', filename)\n",
    "        return filename\n",
    "\n",
    "    print(\"descargar_solo_audio...\")\n",
    "\n",
    "    # Obtener la información del vídeo y el título\n",
    "    ydl_opts_info = {}\n",
    "    with yt_dlp.YoutubeDL(ydl_opts_info) as ydl:\n",
    "        info_dict = ydl.extract_info(url, download=False)\n",
    "        video_title = info_dict.get('title', None)\n",
    "\n",
    "    # Limpiar el título del vídeo\n",
    "    clean_title = sanitize_filename(video_title)\n",
    "\n",
    "    # Opciones para descargar solo el audio\n",
    "    ydl_opts = {\n",
    "        'format': 'bestaudio/best',  # Descargar la mejor calidad de audio disponible\n",
    "        'postprocessors': [{\n",
    "            'key': 'FFmpegExtractAudio',\n",
    "            'preferredcodec': 'mp3',  # Puedes cambiar a 'wav' o 'm4a' si prefieres otro formato\n",
    "            'preferredquality': '192',  # Calidad de audio\n",
    "        }],\n",
    "        'outtmpl': f'{clean_title}.%(ext)s',  # Guardar el archivo con el título limpio\n",
    "        'quiet': True,  # Esta opción desactiva los mensajes de yt-dlp\n",
    "        'no_warnings': True  # Desactiva las advertencias\n",
    "    }\n",
    "\n",
    "    # Descargar el audio\n",
    "    with yt_dlp.YoutubeDL(ydl_opts) as ydl:\n",
    "        ydl.download([url])\n",
    "\n",
    "# Devolver el nombre del archivo\n",
    "    filename = f\"{clean_title}.mp3\"\n",
    "    print(f\"Descarga de audio completa. Archivo guardado como: {filename}\")\n",
    "    return filename\n",
    "# Ejemplo de uso:\n",
    "# descargar_solo_audio(\"https://www.youtube.com/watch?v=G9FRadIkkE0\")\n"
   ]
  },
  {
   "cell_type": "code",
   "execution_count": null,
   "metadata": {},
   "outputs": [
    {
     "name": "stdout",
     "output_type": "stream",
     "text": [
      "descargar_solo_audio...\n"
     ]
    },
    {
     "name": "stdout",
     "output_type": "stream",
     "text": [
      "[youtube] Extracting URL: https://www.youtube.com/watch?v=wRsX_ZkzxvQ\n",
      "[youtube] wRsX_ZkzxvQ: Downloading webpage\n",
      "[youtube] wRsX_ZkzxvQ: Downloading ios player API JSON\n",
      "[youtube] wRsX_ZkzxvQ: Downloading mweb player API JSON\n",
      "[youtube] wRsX_ZkzxvQ: Downloading m3u8 information\n",
      "                                                           \r"
     ]
    }
   ],
   "source": [
    "descargar_solo_audio(\"https://www.youtube.com/watch?v=wRsX_ZkzxvQ\")"
   ]
  },
  {
   "cell_type": "code",
   "execution_count": 21,
   "metadata": {},
   "outputs": [],
   "source": [
    "\n",
    "from pydub import AudioSegment\n",
    "import os\n",
    "\n",
    "import os\n",
    "from pydub import AudioSegment\n",
    "\n",
    "def sanitize_filename(filename):\n",
    "    # Reemplaza los espacios por guiones bajos\n",
    "    filename = filename.replace(\" \", \"_\")\n",
    "    # Elimina caracteres no alfanuméricos, dejando solo letras, números y guiones bajos\n",
    "    filename = re.sub(r'[^\\w-]', '', filename)\n",
    "    return filename\n",
    "\n",
    "# Función para dividir el audio en segmentos de 120 segundos por defecto\n",
    "def split_audio(file_path, output_dir=\"output\", base_name=None, chunk_length=120):\n",
    "     # Si no se proporciona base_name, obtenerlo del file_path\n",
    "    if base_name is None:\n",
    "        base_name = os.path.splitext(os.path.basename(file_path))[0]  # Extraer nombre de archivo sin extensión\n",
    "    \n",
    "    # Cargar el archivo de audio\n",
    "    audio = AudioSegment.from_mp3(file_path)\n",
    "    duration_ms = len(audio)  # Duración total del audio en milisegundos\n",
    "    chunk_length_ms = chunk_length * 1000  # Convertir la longitud de los fragmentos a milisegundos\n",
    "\n",
    "    # Crear el directorio de salida si no existe\n",
    "    os.makedirs(output_dir, exist_ok=True)\n",
    "\n",
    "    chunk_files = []\n",
    "\n",
    "    # Dividir el audio en fragmentos estándar de chunk_length_ms\n",
    "    for i, start in enumerate(range(0, duration_ms, chunk_length_ms)):\n",
    "        print(f\"\\rFragmento {i+1}/{int(duration_ms/chunk_length_ms)}\", end='')\n",
    "        chunk = audio[start:start + chunk_length_ms]\n",
    "        chunk_name = f\"{i:03d}_{base_name}.mp3\"\n",
    "        chunk_path = os.path.join(output_dir, chunk_name)\n",
    "        chunk.export(chunk_path, format=\"mp3\")\n",
    "        chunk_files.append(chunk_path)\n",
    "    \n",
    "    return chunk_files\n",
    "\n",
    "# Ejemplo de uso:\n",
    "# Dividir un archivo de audio en segmentos de 120 segundos y guardarlos en una carpeta\n",
    "# split_audio(\"audio.mp3\", \"output_dir\", \"segment\", chunk_length=120)\n",
    "\n",
    "\n",
    "def transcribe(audio_file,output_dir=\"transcribed_output\"):\n",
    "    if not os.path.isfile(audio_file):\n",
    "        print(f\"El archivo {audio_file} no existe.\")\n",
    "        return  False\n",
    "    \n",
    "    # Crear el directorio de salida si no existe\n",
    "    os.makedirs(output_dir, exist_ok=True)\n",
    "    \n",
    "    with open(audio_file, 'rb') as f:\n",
    "        print(\"Transcribiendo audio...\",end='')\n",
    "        transcript = client.audio.transcriptions.create(\n",
    "            model='whisper-1',\n",
    "            file=f\n",
    "        )\n",
    "        print(f\"Transcripción completa {transcript.text}\")\n",
    "        name,extension = os.path.splitext(audio_file)\n",
    "        transcribed_file = f\"transcribed_{name}.txt\"\n",
    "        print(f\"Archivo de transcripción guardado como: {transcribed_file}\")\n",
    "        with open(transcribed_file, 'w') as transcription_file:\n",
    "            transcription_file.write(transcript.text)\n",
    "    return transcribed_file\n",
    "\n",
    "def resumen_transcripcion(file,idioma=\"Castellano\"):\n",
    "    #enviar la transcripción a openAI para obtener el resumen\n",
    "    MODEL='gpt-4o'\n",
    "    system_role=f'''\n",
    "    Eres un asistente para resumir. Te pasan la transcripción de un vídeo y respondes\n",
    "    con un texto donde explicas los contenidos del video.\n",
    "    Empiezas con una introducción, siguies con los apartados principales y terminas con una conclusión.\n",
    "    Devuelves el texto en formato markdown y solamente escribes el contenido del texto.\n",
    "    Siempre respondes en {idioma}\n",
    "    \n",
    "    \n",
    "    '''\n",
    "\n",
    "    # Leer el contenido de cada archivo y agregarlo a la transcripción total\n",
    "    texto_a_resumir=\"\"\n",
    "    with open(file, 'r') as f:\n",
    "        content = f.read()\n",
    "        texto_a_resumir += content + \"\\n\"\n",
    "    response = client.chat.completions.create(\n",
    "        model=MODEL,\n",
    "        messages=[\n",
    "            {'role':'system','content':system_role},\n",
    "            {'role':'user','content':texto_a_resumir},\n",
    "        ],\n",
    "    )\n",
    "    print(response.choices[0].message.content)\n",
    "    file_resumed=\"resumed_.txt\"\n",
    "    with open(file_resumed, 'w') as transcription_file:\n",
    "        transcription_file.write(response.choices[0].message.content)\n",
    "    return response.choices[0].message.content\n",
    "\n",
    "\n",
    "def guion_video(file,idioma=\"Castellano\"):\n",
    "    #enviar la transcripción a openAI para obtener el resumen\n",
    "    MODEL='gpt-4o'\n",
    "    system_role=f'''\n",
    "    Eres un guionista para vídeos de youtube. Te pasan la transcripción de un vídeo y respondes\n",
    "    con un guión del vídeo en el idioma {idioma} con frases elaboradas.\n",
    "    Tienes que presentar un guión con los minutos más exactos para que \n",
    "    se pueda grabar un nuevo vídeo con el mismo contenido pero en el idioma {idioma}.\n",
    "    Devuelves el texto en formato markdown.\n",
    "    \n",
    "    '''\n",
    "\n",
    "    # Leer el contenido de cada archivo y agregarlo a la transcripción total\n",
    "    texto_a_resumir=\"\"\n",
    "    with open(file, 'r') as f:\n",
    "        content = f.read()\n",
    "        texto_a_resumir += content + \"\\n\"\n",
    "    response = client.chat.completions.create(\n",
    "        model=MODEL,\n",
    "        messages=[\n",
    "            {'role':'system','content':system_role},\n",
    "            {'role':'user','content':texto_a_resumir},\n",
    "        ],\n",
    "    )\n",
    "    print(response.choices[0].message.content)\n",
    "    file_resumed=f\"guion_{file}\"\n",
    "    with open(file_resumed, 'w') as transcription_file:\n",
    "        transcription_file.write(response.choices[0].message.content)\n",
    "    return response.choices[0].message.content\n",
    "\n",
    "\n",
    "\n",
    "import os\n",
    "\n",
    "# Unificar el contenido de todos los archivos en uno solo\n",
    "def unificar_archivos(files, output_file=\"transcripcion_unificada.txt\"):\n",
    "    total_transcription = \"\"\n",
    "    \n",
    "    file_name = files[0]  # Obtener el nombre del archivo dentro de la lista\n",
    "    directori=file_name.split('/')[0]\n",
    "    base_name=file_name.split('/')[1][4::].split('.')[0]\n",
    "    output_file=f\"{directori}/transcribed_{base_name}.txt\"\n",
    "    for file in files:\n",
    "  \n",
    "        \n",
    "        \n",
    "        # Leer el contenido de cada archivo y agregarlo a la transcripción total\n",
    "        with open(file, 'r') as f:\n",
    "            content = f.read()\n",
    "            total_transcription += content + \"\\n\"\n",
    "    \n",
    "    # Guardar la transcripción unificada en un archivo\n",
    "    with open(output_file, 'w') as out_file:\n",
    "        out_file.write(total_transcription)\n",
    "    \n",
    "    print(f\"Archivos unificados y guardados en: {output_file}\")\n",
    "\n",
    "\n",
    "def borrar_archivos(files):\n",
    "    for file in files:\n",
    "        try:\n",
    "            os.remove(file)  # Eliminar el archivo\n",
    "            print(f\"Archivo eliminado: {file}\")\n",
    "        except FileNotFoundError:\n",
    "            print(f\"El archivo no existe: {file}\")\n",
    "        except Exception as e:\n",
    "            print(f\"No se pudo eliminar el archivo {file} debido a: {e}\")\n",
    "\n",
    "\n",
    "\n",
    "\n",
    "\n",
    "\n",
    "        \n",
    "\n",
    "\n",
    "\n"
   ]
  },
  {
   "cell_type": "code",
   "execution_count": 8,
   "metadata": {},
   "outputs": [
    {
     "name": "stdout",
     "output_type": "stream",
     "text": [
      "Fragmento 5/4"
     ]
    }
   ],
   "source": [
    "segments=split_audio(\"Neuroscientist_TRIPLE_Your_Testosterone_Levels__Andrew_Huberman.mp3\")\n",
    "# segments=split_audio(\"Dr_Craig_Koniver_Peptide__Hormone_Therapies_for_Health_Performance__Longevity.mp3\")"
   ]
  },
  {
   "cell_type": "code",
   "execution_count": 39,
   "metadata": {},
   "outputs": [
    {
     "data": {
      "text/plain": [
       "['output/000_Neuroscientist_TRIPLE_Your_Testosterone_Levels__Andrew_Huberman.mp3',\n",
       " 'output/001_Neuroscientist_TRIPLE_Your_Testosterone_Levels__Andrew_Huberman.mp3',\n",
       " 'output/002_Neuroscientist_TRIPLE_Your_Testosterone_Levels__Andrew_Huberman.mp3',\n",
       " 'output/003_Neuroscientist_TRIPLE_Your_Testosterone_Levels__Andrew_Huberman.mp3',\n",
       " 'output/004_Neuroscientist_TRIPLE_Your_Testosterone_Levels__Andrew_Huberman.mp3']"
      ]
     },
     "execution_count": 39,
     "metadata": {},
     "output_type": "execute_result"
    }
   ],
   "source": [
    "segments"
   ]
  },
  {
   "cell_type": "code",
   "execution_count": 14,
   "metadata": {},
   "outputs": [
    {
     "name": "stdout",
     "output_type": "stream",
     "text": [
      "Transcribiendo segmento: output/000_Neuroscientist_TRIPLE_Your_Testosterone_Levels__Andrew_Huberman.mp3\n",
      "Transcribiendo audio...Transcripción completa The major effect of testosterone is to make effort feel good. That's what testosterone does. The real question is, are you enjoying what you're doing? When effort feels good, life just gets way better. So there's something about these molecules that in an ancient way are linked to the will to live. They're linked to effort and making effort feel good. That's the Holy Grail. There's a very interesting relationship between testosterone and dopamine. So dopamine and testosterone are closely related in the pituitary system. And obviously testosterone comes from the adrenals and from the testes. But the major effect of testosterone is to make effort feel good. That's what testosterone does. It has other effects too, right? Reproductive effects, androgenizing parts of the body, et cetera, but it makes effort feel good. The testosterone molecule is synthesized from cholesterol. Cholesterol can either be made into cortisol, a stress hormone, or testosterone, but not both. So you have a limited amount of cholesterol and it gets diverted towards stress or this pathway where effort feels good. That's the pathway you wanna get into. The anger pathway, if we were to just kind of play a mind experiment here, the anger eventually is gonna divert more of that cholesterol molecule to cortisol and stress, and you will be slowly depleting testosterone. Now going into this, you'll have plenty of testosterone, but after a couple of days, there've been very interesting studies showing that testosterone doesn't necessarily drop with sleep deprivation. That's a bit of a myth. The real question is, are you enjoying what you're doing? If you can just convince yourself, or ideally if you can just enjoy yourself, you are going to maintain or maybe even increase testosterone stores, which will make effort feel good. And to me, aside from neuroplasticity, where everything becomes automatic after this experience.\n",
      "Archivo de transcripción guardado como: transcribed_output/000_Neuroscientist_TRIPLE_Your_Testosterone_Levels__Andrew_Huberman.txt\n",
      "Transcribiendo segmento: output/001_Neuroscientist_TRIPLE_Your_Testosterone_Levels__Andrew_Huberman.mp3\n",
      "Transcribiendo audio...Transcripción completa To me, that's the holy grail. When effort feels good, life just gets way better. And we're not talking about achieving the reward. I'm not talking about the end of this thing. I'm talking about the process of it feeling really good. And so there's something about these molecules that in an ancient way, in all organisms, all mammals as far as we know, are linked to the will to live. They're linked to effort and making effort feel good, which has been fundamental to the evolution of our species. I always say people think that the opposite of testosterone is estrogen, but it's not. The opposite of testosterone is prolactin, which makes us feel quiescent and not in pursuit of things, et cetera. Testosterone makes effort feel good. Estrogen makes emotions feel okay. So it is the case that increases in testosterone promote competitive and foraging type behaviors in humans and in non-human mammals. But it's also true that competition itself can increase androgens such as testosterone. And so we all know, because now we've been told a lot in the last decade or so, that getting proper sleep is important for all these aspects of health. Getting proper sleep can really offset all the reductions in testosterone and estrogen and reductions in fertility that occur if we don't get enough sleep. But seldom is it discussed how sleep actually adjusts things like testosterone and estrogen. So the simple version of this is getting your breathing right during the waking hours, meaning primarily, unless you're working out really hard or there's some other reason why you're maybe eating or speaking that you need to be breathing through your mouth, you should be a nose breather. There's really good evidence for that now. And in sleep, you also want to be a nose breather because that's going to increase the amount of oxygen that you're bringing into your system and the amount of carbon dioxide that you're offloading. There are other positive effects of it as well, but you're basically reducing apnea. So breath holding in sleep leads to buildup of carbon dioxide and leads to increases in cortisol, which then decrease testosterone.\n",
      "Archivo de transcripción guardado como: transcribed_output/001_Neuroscientist_TRIPLE_Your_Testosterone_Levels__Andrew_Huberman.txt\n",
      "Transcribiendo segmento: output/002_Neuroscientist_TRIPLE_Your_Testosterone_Levels__Andrew_Huberman.mp3\n",
      "Transcribiendo audio...Transcripción completa testosterone and decrease estrogen in negative ways across all sexes, okay? So the simple version of this is get your breathing right. And many of you have heard me talk about this before and I'm not gonna belabor the point that viewing bright light within the first hour of waking, whether or not it's from artificial light or ideally from sunlight, has these powerful effects on sleep and wakefulness. This translates to the protocol of, if you want to optimize testosterone and estrogen, you need to get your light viewing behavior correct. It's not just about optimizing your sleep, which is also important, it's about getting sufficient amount of light in your eyes so you have sufficient levels of dopamine. So the simple protocols for that I've reviewed before, but it means getting anywhere from two to 10 minutes of bright light exposure in your eyes early in the day. It is not sufficient to do this with sunglasses unless you have to do that for safety reasons. It's fine to wear prescription lenses and contacts. If you can't get sunlight for whatever reason, you want to use bright artificial light. The other aspect of light viewing behavior that's extremely important is to avoid bright light exposure to your eyes in the middle of the night. If you're viewing bright light in the middle of the night, you are suppressing dopamine release. If you're suppressing dopamine release, you are suppressing testosterone levels. Heavy weight training, but not weight training to failure where completion of a repetition is impossible, but where basically people are working at anywhere from like 70% to 95% of their maximum, or sometimes even going right down to their one repetition maximum, leads to the greatest increases in testosterone. There's clearly a influence of hard work at the neural level and then at the muscular level for increasing testosterone. So now let's talk about the role of specific compounds, some of which, many of which can be taken in supplementation form or extracted from diet and nutrition in order to optimize sex steroid hormones. And again, I just want to emphasize that I'm not suggesting anyone take anything or stop taking anything. This is purely for information.\n",
      "Archivo de transcripción guardado como: transcribed_output/002_Neuroscientist_TRIPLE_Your_Testosterone_Levels__Andrew_Huberman.txt\n",
      "Transcribiendo segmento: output/003_Neuroscientist_TRIPLE_Your_Testosterone_Levels__Andrew_Huberman.mp3\n",
      "Transcribiendo audio...Transcripción completa but some of the data on these is quite striking and impressive. It's very clear that vitamin D, which is important for so many biological functions, including endocrine functions, zinc, magnesium, creatine, it's very clear that something about creatine, although the mechanism isn't exactly clear, either increases 5-alpha reductase or makes the testosterone molecule more susceptible to certain enzymatic reactions that leads to increases in DHT. DHT, dihydrotestosterone, it has this dramatic role in creating a kind of masculinization of the brain prenatally. It also defines the primary sex characteristic of the growth of the penis, et cetera, and beyond infancy and early childhood and later in life, it has powerful effects in creating balding, in beard growth, et cetera, and it has a much higher affinity for the androgen receptor than does testosterone. There are a few other things that can increase testosterone, in particular, Tonga Ali, and another one which is very interesting, it's a Nigerian shrub called Phytogea agrestis, and it mimics luteinizing hormone, which is the hormone that comes out of the hypothalamus that stimulates the testes if you got those and your ovaries if you've got those to make more testosterone or estrogen. And so those two herbal supplements together can give a significant boost in free and active testosterone. So you said Tonga Ali can give you 100 to 200. Yeah, about that. What does the other one give you? Phytogea is usually taken at about 600 milligrams, and that can, the most dramatic effect I've ever seen was somebody who had his testosterone down in the low twos, or I think it was like low twos, and he got it up to the 700 range, which, but that's an outlier, right? Most people are gonna see about a 300 to 400 point increase. And that's what the two of them synergistically work? Yeah, Phytogea will actually make the testes grow. It's a noticeable difference.\n",
      "Archivo de transcripción guardado como: transcribed_output/003_Neuroscientist_TRIPLE_Your_Testosterone_Levels__Andrew_Huberman.txt\n",
      "Transcribiendo segmento: output/004_Neuroscientist_TRIPLE_Your_Testosterone_Levels__Andrew_Huberman.mp3\n",
      "Transcribiendo audio...Transcripción completa So everybody wants that\n",
      "Archivo de transcripción guardado como: transcribed_output/004_Neuroscientist_TRIPLE_Your_Testosterone_Levels__Andrew_Huberman.txt\n",
      "['transcribed_output/000_Neuroscientist_TRIPLE_Your_Testosterone_Levels__Andrew_Huberman.txt', 'transcribed_output/001_Neuroscientist_TRIPLE_Your_Testosterone_Levels__Andrew_Huberman.txt', 'transcribed_output/002_Neuroscientist_TRIPLE_Your_Testosterone_Levels__Andrew_Huberman.txt', 'transcribed_output/003_Neuroscientist_TRIPLE_Your_Testosterone_Levels__Andrew_Huberman.txt', 'transcribed_output/004_Neuroscientist_TRIPLE_Your_Testosterone_Levels__Andrew_Huberman.txt']\n"
     ]
    }
   ],
   "source": [
    "trasc_files=[]\n",
    "for segment in segments:\n",
    "    print(f\"Transcribiendo segmento: {segment}\")\n",
    "    file_transcribed=transcribe(segment)\n",
    "    trasc_files.append(file_transcribed)\n",
    "print(trasc_files)\n",
    "\n",
    "\n",
    "    "
   ]
  },
  {
   "cell_type": "code",
   "execution_count": 36,
   "metadata": {},
   "outputs": [
    {
     "name": "stdout",
     "output_type": "stream",
     "text": [
      "Archivos unificados y guardados en: transcribed_output/transcribed_Neuroscientist_TRIPLE_Your_Testosterone_Levels__Andrew_Huberman.txt\n"
     ]
    }
   ],
   "source": [
    "unificar_archivos(trasc_files)\n"
   ]
  },
  {
   "cell_type": "code",
   "execution_count": 32,
   "metadata": {},
   "outputs": [
    {
     "name": "stdout",
     "output_type": "stream",
     "text": [
      "output/transcribed_Neuroscientist_TRIPLE_Your_Testosterone_Levels__Andrew_Huberman.txt\n"
     ]
    }
   ],
   "source": [
    "file_name='output/000_Neuroscientist_TRIPLE_Your_Testosterone_Levels__Andrew_Huberman.mp3'\n",
    "directori=file_name.split('/')[0]\n",
    "base_name=file_name.split('/')[1][4::].split('.')[0]\n",
    "output_file=f\"{directori}/transcribed_{base_name}.txt\"\n",
    "print(output_file)"
   ]
  },
  {
   "cell_type": "code",
   "execution_count": 40,
   "metadata": {},
   "outputs": [
    {
     "name": "stdout",
     "output_type": "stream",
     "text": [
      "Archivo eliminado: output/000_Neuroscientist_TRIPLE_Your_Testosterone_Levels__Andrew_Huberman.mp3\n",
      "Archivo eliminado: output/001_Neuroscientist_TRIPLE_Your_Testosterone_Levels__Andrew_Huberman.mp3\n",
      "Archivo eliminado: output/002_Neuroscientist_TRIPLE_Your_Testosterone_Levels__Andrew_Huberman.mp3\n",
      "Archivo eliminado: output/003_Neuroscientist_TRIPLE_Your_Testosterone_Levels__Andrew_Huberman.mp3\n",
      "Archivo eliminado: output/004_Neuroscientist_TRIPLE_Your_Testosterone_Levels__Andrew_Huberman.mp3\n"
     ]
    }
   ],
   "source": [
    "borrar_archivos(segments)"
   ]
  },
  {
   "cell_type": "code",
   "execution_count": 6,
   "metadata": {},
   "outputs": [
    {
     "name": "stdout",
     "output_type": "stream",
     "text": [
      "descargar_solo_audio...\n",
      "[youtube] Extracting URL: https://www.youtube.com/watch?v=G9FRadIkkE0\n",
      "[youtube] G9FRadIkkE0: Downloading webpage\n",
      "[youtube] G9FRadIkkE0: Downloading ios player API JSON\n",
      "[youtube] G9FRadIkkE0: Downloading mweb player API JSON\n",
      "[youtube] G9FRadIkkE0: Downloading m3u8 information\n",
      "Descarga de audio completa. Archivo guardado como: Microsoft_Recall_is_MANDATORY.mp3\n"
     ]
    }
   ],
   "source": [
    "#prueba todo\n",
    "new_file_name=descargar_solo_audio(\"https://www.youtube.com/watch?v=G9FRadIkkE0\")"
   ]
  },
  {
   "cell_type": "code",
   "execution_count": 7,
   "metadata": {},
   "outputs": [
    {
     "data": {
      "text/plain": [
       "'Microsoft_Recall_is_MANDATORY.mp3'"
      ]
     },
     "execution_count": 7,
     "metadata": {},
     "output_type": "execute_result"
    }
   ],
   "source": [
    "new_file_name"
   ]
  },
  {
   "cell_type": "code",
   "execution_count": 8,
   "metadata": {},
   "outputs": [
    {
     "name": "stdout",
     "output_type": "stream",
     "text": [
      "Transcribiendo audio...Transcripción completa This is a video I really didn't think I was gonna make. I'm on my inside computer right now and I ran into this issue and it has direct implications with Microsoft Recall. Specifically how Microsoft assured us that it wouldn't infiltrate regular systems that was only for like AI arm based systems with the Recall or Copilot Plus chips. I can say definitively today that was incorrect. Recall is getting installed on every single system in 24h2 more so and this is really really important. It is a dependency in File Explorer that should alarm a lot of people and I wanted to walk you through all the things that you need to do to disable it but also the future of Windows and how we think about Windows because it's really important that one if you continue using Windows in 24h2 and beyond you disable the Recall service but I just want to show you the findings and then you can come to whatever conclusion you want to come to as I'm just more concerned with developing tool and making your Windows experience as good as it possibly can be. So first off what's happening? Well I have a like a micro win is what I call it but essentially it's just the Windows deployment services and it strips out a lot of the junk like tick tock and all these other garbage apps that get installed on your system when you first boot it up and what happened was in the new update with the new ISO as soon as users started putting in it I started seeing these error reports going hey why is my Explorer reverted back to here and started going through and go hey can you give me the version go through again and there's something that really kind of crazy pops up. The copilot removal is breaking new Explorer tabs this is actually in the NTLite changelog as well so the NTLite team in their changelog reported this first and then if you continue scrolling down I copy a lot of those same things from whether it's NTLite or other other places I'm always looking to have the most tight no-nonsense base starting point for Windows. Well we started looking through and what we found was we have to leave the actual component there and then disable it after the user comes into the computer and that will leave the folder or the file explorer the same way. Now to kind of showcase this this is a new update that we're doing specifically big shout out to Coding Wonders for for working so hard on making these streamlined and also adding a lot more functionality we won't have to actually select your own ISO anymore you could actually just get it automatically from Microsoft.com which is great and what we're doing is just a couple little bug fixes one thing was adding remote desktop and fixing like obviously no longer messes up the file explorer look in 24h2 so you can see he left a bunch of samples here but the big thing is I want to tie you to the code things we had to do in the file change. Right here is when this line kind of came in and basically what's happening in this function is we're just saying hey make sure we don't strip out like NFS or search engine remote desktop those those features are needed and also not recall because those components are a mandatory necessity for the new file explorer with tabs in 24h2. Funny thing is it used to not be in 23h2 so that's a very interesting tidbit what exactly is Microsoft doing on that back end the rest of this pretty standard and getting a lot of this just kind of fixing hey if it's not installing on C drive and some other really good bug fixes that a couple people ran into but for the most part micro win is in a fantastic state it's officially the first year anniversary since we released that functionality from Conti and Coding Wonders has been working really hard on it I've occasionally stepped in I think helped streamline it in a big PR here about a month or two ago and Coding Wonders just kind of picked it up and really just gone wild with it was been great but I wanted to make this video just saying hey this is happening in Windows every user should know about it and the thing that I'm more worried about is what about all the users that don't hear about it this recall service will be enabled it is integrated into your file explorer and it actively part of it what it's doing in the background is probably the biggest and also the scariest question\n",
      "Archivo de transcripción guardado como: transcribed_Microsoft_Recall_is_MANDATORY.txt\n"
     ]
    }
   ],
   "source": [
    "transcribed_file=transcribe(new_file_name)"
   ]
  },
  {
   "cell_type": "code",
   "execution_count": 13,
   "metadata": {},
   "outputs": [
    {
     "data": {
      "text/plain": [
       "'transcribed_Microsoft_Recall_is_MANDATORY.txt'"
      ]
     },
     "execution_count": 13,
     "metadata": {},
     "output_type": "execute_result"
    }
   ],
   "source": [
    "transcribed_file"
   ]
  },
  {
   "cell_type": "code",
   "execution_count": 16,
   "metadata": {},
   "outputs": [
    {
     "name": "stdout",
     "output_type": "stream",
     "text": [
      "En el vídeo se discute una preocupación importante sobre un cambio en el software de Windows que podría afectar a muchos usuarios. A lo largo del video, se destacan implicaciones directas relacionadas con el servicio \"Recall\" de Microsoft.\n",
      "\n",
      "**Introducción:** El orador comienza mencionando su sorpresa por la necesidad de hacer este video, debido a un problema encontrado con la integración del servicio \"Recall\" de Microsoft en sistemas tradicionales, a pesar de las garantías iniciales de que solo afectaría a sistemas específicos con chips de inteligencia artificial (IA) armados. Este problema se vuelve relevante para la próxima actualización Windows 24h2.\n",
      "\n",
      "**Apartados principales:**\n",
      "\n",
      "1. **Implicaciones de Recall en Windows:** Se explica cómo el servicio \"Recall\" se está instalando en todos los sistemas, no solo en aquellos con soporte de inteligencia artificial, lo que podría ser alarmante. \"Recall\" se convierte en una dependencia dentro del Explorador de Archivos de Windows, lo que motiva al orador a detallar cómo deshabilitar este servicio.\n",
      "\n",
      "2. **Consecuencias Técnicas:** Se describe una situación donde la eliminación del componente \"Copilot\" puede estar causando problemas con las nuevas pestañas del Explorador de Archivos. Estos problemas han sido reportados en los cambios de registro de NTLite, una herramienta utilizada para personalizar instalaciones de Windows.\n",
      "\n",
      "3. **Soluciones Propuestas:** Se menciona el trabajo que se está llevando a cabo para solucionar estos problemas, destacando el esfuerzo por parte del equipo de Coding Wonders para mejorar y optimizar Windows, incluyendo la reparación de errores como la compatibilidad con Escritorio Remoto y problemas con la ubicación de la instalación en la unidad C.\n",
      "\n",
      "4. **Discusiones sobre el Futuro de Windows:** El orador expresa preocupaciones sobre el futuro de Windows y la falta de comunicación sobre estos cambios para los usuarios promedio. Estos cambios pueden ser significativos y podrían tener efectos sobre el uso cotidiano del sistema operativo.\n",
      "\n",
      "**Conclusión:** El video finaliza enfatizando la importancia de estar informado sobre los cambios en el sistema operativo, especialmente aquellos que podrían afectar el funcionamiento del Explorador de Archivos y otros componentes esenciales. Se anima a los usuarios a deshabilitar el servicio \"Recall\" para evitar posibles problemas y se cuestiona el propósito y las acciones de Microsoft al integrar este servicio de manera tan extensa.\n"
     ]
    },
    {
     "data": {
      "text/plain": [
       "'En el vídeo se discute una preocupación importante sobre un cambio en el software de Windows que podría afectar a muchos usuarios. A lo largo del video, se destacan implicaciones directas relacionadas con el servicio \"Recall\" de Microsoft.\\n\\n**Introducción:** El orador comienza mencionando su sorpresa por la necesidad de hacer este video, debido a un problema encontrado con la integración del servicio \"Recall\" de Microsoft en sistemas tradicionales, a pesar de las garantías iniciales de que solo afectaría a sistemas específicos con chips de inteligencia artificial (IA) armados. Este problema se vuelve relevante para la próxima actualización Windows 24h2.\\n\\n**Apartados principales:**\\n\\n1. **Implicaciones de Recall en Windows:** Se explica cómo el servicio \"Recall\" se está instalando en todos los sistemas, no solo en aquellos con soporte de inteligencia artificial, lo que podría ser alarmante. \"Recall\" se convierte en una dependencia dentro del Explorador de Archivos de Windows, lo que motiva al orador a detallar cómo deshabilitar este servicio.\\n\\n2. **Consecuencias Técnicas:** Se describe una situación donde la eliminación del componente \"Copilot\" puede estar causando problemas con las nuevas pestañas del Explorador de Archivos. Estos problemas han sido reportados en los cambios de registro de NTLite, una herramienta utilizada para personalizar instalaciones de Windows.\\n\\n3. **Soluciones Propuestas:** Se menciona el trabajo que se está llevando a cabo para solucionar estos problemas, destacando el esfuerzo por parte del equipo de Coding Wonders para mejorar y optimizar Windows, incluyendo la reparación de errores como la compatibilidad con Escritorio Remoto y problemas con la ubicación de la instalación en la unidad C.\\n\\n4. **Discusiones sobre el Futuro de Windows:** El orador expresa preocupaciones sobre el futuro de Windows y la falta de comunicación sobre estos cambios para los usuarios promedio. Estos cambios pueden ser significativos y podrían tener efectos sobre el uso cotidiano del sistema operativo.\\n\\n**Conclusión:** El video finaliza enfatizando la importancia de estar informado sobre los cambios en el sistema operativo, especialmente aquellos que podrían afectar el funcionamiento del Explorador de Archivos y otros componentes esenciales. Se anima a los usuarios a deshabilitar el servicio \"Recall\" para evitar posibles problemas y se cuestiona el propósito y las acciones de Microsoft al integrar este servicio de manera tan extensa.'"
      ]
     },
     "execution_count": 16,
     "metadata": {},
     "output_type": "execute_result"
    }
   ],
   "source": [
    "resumen_transcripcion(transcribed_file)"
   ]
  },
  {
   "cell_type": "code",
   "execution_count": 18,
   "metadata": {},
   "outputs": [
    {
     "name": "stdout",
     "output_type": "stream",
     "text": [
      "descargar_solo_audio...\n",
      "[youtube] Extracting URL: https://www.youtube.com/watch?v=402y2mVDbdo\n",
      "[youtube] 402y2mVDbdo: Downloading webpage\n"
     ]
    },
    {
     "name": "stdout",
     "output_type": "stream",
     "text": [
      "[youtube] 402y2mVDbdo: Downloading ios player API JSON\n",
      "[youtube] 402y2mVDbdo: Downloading mweb player API JSON\n",
      "[youtube] 402y2mVDbdo: Downloading m3u8 information\n",
      "Descarga de audio completa. Archivo guardado como: Windows_Recall_Mandatory_Time_to_Switch_to_Linux.mp3\n",
      "Transcribiendo audio...Transcripción completa Today, I wanna make the case to switch to Linux from Windows as we discussed in the past, retrace your steps with Recall. This is a feature that's getting introduced to Windows and the Copilot PCs that allows you to search across time and find the content that you need. While this sounds fascinating and great to automatically just pull up something that you've done in the past, with this cool new Recall feature, we've spoke about many different problems with saving screenshots and snapshots of your particular screen in this Recall feature so that it can actually do this type of Recall and tell you where and what time you were performing some sort of an action. And today, I wanna focus on a worrying feature, which is not being able to disable Recall as a feature on new Windows systems. Now, is this the case? We're gonna figure out, well, what does Recall do? Well, it takes snapshots or screenshots of your computer every few seconds in order to have a context window that allows you to search those contexts and give you information back based on things that you were doing in the past by simply writing messages to Recall. Yeah, that's all cool, but now when you're forcing a feature on us, which seems to have overwhelming security and privacy concerns, with even a hack taking place in an SQLite database where Recall was storing its information, we already talked about how hackers can potentially just get into the Recall feature and then look up almost anything that they want on your system that you were doing in the past. We just start envisioning this nightmare that this Recall feature creates. And one of the most important things is the fact that you should be able to disable this Recall feature when it does come to Windows computers. So the Windows Recall feature is available for Copilot plus PCs, which is a new type of PC that Windows is trying to introduce with AI as it's all the buzz nowadays. Anyways, very high system requirements for this thing, but that's not what we're interested in today. Instead, I wanna talk about the Recall feature as Microsoft continues to constantly flip-flop on what it's going to do. So it's losing our trust as it already has lost the trust of many people in Windows, and that's why people are starting to choose to go to Linux. And it makes a lot of sense as Microsoft reverses course makes Recall feature opt-in only after a security backlash. So this is on June 7th, months ago, Microsoft announced changes on Friday to the controversial Recall feature that will allow the users to proactively opt-in for this tool before it is activated on devices. Well, okay, after a lot of backlash, they decided to make a change there and let people actually choose whether or not they wanted to use this, not just throw it on them. Is that the case? Well, no, this is from the record news website. Now let's go to Windows Central where we had another article posted on September 2nd that kind of counteracts what we just read in the last one. Turns out you won't be able to uninstall Windows 11 Recall feature after all. So funnily enough, Microsoft says the ability to uninstall Windows Recall is just a bug. And I think it's just a feature, but you still will be able to turn it off. Sure, you'll be able to turn it off, but how can you turn it off? How easy is it to turn off? Because what this was saying is there was a feature, much like you would find in Windows, in which you could go through the list of features and simply uncheck Recall. That's what they're talking about as a bug. That wasn't supposed to show up. They never wanted it. They never intended it to work that way. Instead, they wanna keep you forced into using Recall. So that's why you're seeing more and more people talking about this, as well as this constant flip-flop really becoming a push point for a lot of people to switch to Linux. What's the point if you can't disable something you don't wanna use? Or if it's very hard to disable that particular feature that you don't wanna use? Well, that's what Windows looks like it's doing for us. And take a moment to make sure to smash that like button for me if you're enjoying this type of content. Also make sure to subscribe below so you can get more videos like this. Let's continue on. So from Windows Central, what you need to know, last week, the option to uninstall Windows Recall began appearing on Windows settings. Now Microsoft says the option to uninstall Recall is a bug and won't be possible when Recall officially launches on Cold Pilot Plus PCs. So then we move on to a Verge article. Microsoft says it's Recall uninstall option in Windows 11 is just a bug. Another report on September 2nd of the same thing. So here they give us an exact image of how you could uninstall that feature. Recall, all you had to do is uncheck this checkbox that was defaulted for you and you would have the Recall feature out. So it went from a feature to a bug that quick. So does that mean Recall is becoming mandatory? Well, it looks like the verdict is still out on this one, but I'm gonna explain to you why even if it's not mandatory, it's going to be very hard to turn off. Just like Windows in the past has focused on getting rid of local accounts, instead making you sign in with a live account, Outlook account or whatever you wanna call it nowadays, Microsoft 365, I don't know anymore, but they want you to log in and use their cloud accounts instead of you just being able to create a local administrator and account to manage your computer. They've gone so far as to making you disable Wi-Fi, jumping through all sorts of hoops in order not to actually sign in and be able to make that local account. What makes us think that it's gonna be any easier with Recall? They just keep using words like easily find and remember things with natural language. Cool, yeah, that's great. But how do I disable it if I don't want it? Because I don't want it. So they say, oh, you can just turn off saving snapshots. Well, does that just stop saving snapshots? Is it still taking pictures of your screen? I don't think it really mentions that out here. And it claims that snapshot storage content stays local. Sure, with privacy and security built in. Yeah, right. It didn't take anything but a few days for someone to exploit this Recall feature because it was utterly so stupid the way that they saved and did not really encrypt data at the very beginning of this. Why do you think they're gonna get it right the first time or at any point in time? I personally think that this feature is being pushed out way too fast. It's not being thought through and it's being forced down our throats. Another reason to start thinking about switching to Linux. Anyways, update on Recall security privacy architecture. Here's the current Recall out-of-box experience page. This is where you are getting to maybe opt out of actually being able to use Recall. I still don't think that this is something that gives you the full control of uninstalling it. I think it just says, no, don't save the snapshots, which is ridiculous. I don't want the service. I don't want the feature. Get rid of it. I wanna be able to uninstall this. I don't care on what computer it is. It's a computer that you purchased with an operating system and you get the choice of your operating system. So why remain on something that is so forcing? And unaccommodating. I really don't like this, especially with all this flip-flopping that has been going on. We accidentally put in a remove feature. I mean, how do you accidentally do that? That just makes no sense. Clearly in the background, they don't know what route they're gonna take. They wanna force people to use it. They don't wanna make it easy to uninstall. Even if you have the option to uninstall, what kind of hoops are we gonna have to jump from? So even if Recall becomes mandatory, know that Windows is still not mandatory and that you can switch to Linux or another operating system that will give you the freedom of choice, that will give you options to uninstall anything that you want, and that allows you to choose whether or not you share private information. I just want you all to be aware of all of this confusion that Microsoft Windows is still creating for us with this new quote-unquote Recall feature. Let me know what you think about this all in the comment section below. Do you trust Microsoft to retrace your steps with Recall and to keep that safe? I personally don't. Catch me in a great community on Discord and I'll catch you in another video. Thanks for watching. Linux can be hard to understand, but I take the most commonly used terms, commands, and subjects in Linux and I break them down into simple-to-read documents, including Linux terms, flashcards, a checklist, a cheat sheet, and a mind map. And if you're ready to level up your Linux experience and knowledge, go to learn.savvynick.com now and get access to these sheets.\n",
      "Archivo de transcripción guardado como: transcribed_Windows_Recall_Mandatory_Time_to_Switch_to_Linux.txt\n",
      "En aquest vídeo es discuteix sobre la controvèrsia al voltant de la nova funció \"Recall\" de Windows i es fa un argument per canviar a Linux. \n",
      "\n",
      "### Introducció\n",
      "L'autor comença ressaltant una nova funció de Windows anomenada \"Recall\", que permet al sistema operatiu fer captures de pantalla per ajudar l'usuari a recordar i buscar informació de manera retroactiva. Tot i que a primera vista pot semblar una característica útil, l'autor exposa les seves preocupacions sobre els problemes de privadesa i seguretat associats amb aquesta funció.\n",
      "\n",
      "### Funció \"Recall\" i Problemes de Seguretat\n",
      "La funció \"Recall\" crea captures de pantalla de manera automàtica per proporcionar un context que permet trobar informació relacionada amb les activitats passades de l'usuari. No obstant això, es menciona que aquesta característica podria ser una porta oberta als hackers, ja que la informació capturada es desa en una base de dades SQLite, la qual pot ser vulnerable a atacs.\n",
      "\n",
      "### Controvèrsia pel Desactivament \n",
      "L'autor destaca que Microsoft ha hagut de fer marxa enrere després de reaccions negatives, permetent ara que la funció \"Recall\" sigui una opció que els usuaris poden activar voluntàriament. Malgrat això, sorgeixen informacions contradictòries sobre si realment és possible desinstal·lar o desactivar completament la funció. Aquesta incertesa genera desconfiança envers la plataforma.\n",
      "\n",
      "### Argument per Canviar a Linux\n",
      "L'autor conclou suggerint el canvi a Linux, un sistema operatiu que ofereix més llibertat i control als usuaris, especialment en matèries de seguretat i privadesa. A Linux, els usuaris poden triar quines funcionalitats utilitzar i mantenir un major control sobre el seu sistema sense sofrir imposicions.\n",
      "\n",
      "### Conclusió\n",
      "El vídeo posa en relleu les preocupacions relacionades amb la funció \"Recall\" a Windows, la seva implementació precipitada i les dificultats associades amb el seu desactivament. Aquestes problemàtiques porten a plantejar el canvi a Linux, que ofereix un control més gran sobre el sistema operatiu i les seves funcionalitats, una opció atractiva per a aquells preocupats per la seva privadesa i seguretat.\n"
     ]
    },
    {
     "data": {
      "text/plain": [
       "'En aquest vídeo es discuteix sobre la controvèrsia al voltant de la nova funció \"Recall\" de Windows i es fa un argument per canviar a Linux. \\n\\n### Introducció\\nL\\'autor comença ressaltant una nova funció de Windows anomenada \"Recall\", que permet al sistema operatiu fer captures de pantalla per ajudar l\\'usuari a recordar i buscar informació de manera retroactiva. Tot i que a primera vista pot semblar una característica útil, l\\'autor exposa les seves preocupacions sobre els problemes de privadesa i seguretat associats amb aquesta funció.\\n\\n### Funció \"Recall\" i Problemes de Seguretat\\nLa funció \"Recall\" crea captures de pantalla de manera automàtica per proporcionar un context que permet trobar informació relacionada amb les activitats passades de l\\'usuari. No obstant això, es menciona que aquesta característica podria ser una porta oberta als hackers, ja que la informació capturada es desa en una base de dades SQLite, la qual pot ser vulnerable a atacs.\\n\\n### Controvèrsia pel Desactivament \\nL\\'autor destaca que Microsoft ha hagut de fer marxa enrere després de reaccions negatives, permetent ara que la funció \"Recall\" sigui una opció que els usuaris poden activar voluntàriament. Malgrat això, sorgeixen informacions contradictòries sobre si realment és possible desinstal·lar o desactivar completament la funció. Aquesta incertesa genera desconfiança envers la plataforma.\\n\\n### Argument per Canviar a Linux\\nL\\'autor conclou suggerint el canvi a Linux, un sistema operatiu que ofereix més llibertat i control als usuaris, especialment en matèries de seguretat i privadesa. A Linux, els usuaris poden triar quines funcionalitats utilitzar i mantenir un major control sobre el seu sistema sense sofrir imposicions.\\n\\n### Conclusió\\nEl vídeo posa en relleu les preocupacions relacionades amb la funció \"Recall\" a Windows, la seva implementació precipitada i les dificultats associades amb el seu desactivament. Aquestes problemàtiques porten a plantejar el canvi a Linux, que ofereix un control més gran sobre el sistema operatiu i les seves funcionalitats, una opció atractiva per a aquells preocupats per la seva privadesa i seguretat.'"
      ]
     },
     "execution_count": 18,
     "metadata": {},
     "output_type": "execute_result"
    }
   ],
   "source": [
    "new_file_name=descargar_solo_audio(\"https://www.youtube.com/watch?v=402y2mVDbdo\")\n",
    "transcribed_file=transcribe(new_file_name)\n",
    "resumen_transcripcion(transcribed_file,idioma=\"Català\")"
   ]
  },
  {
   "cell_type": "code",
   "execution_count": 22,
   "metadata": {},
   "outputs": [
    {
     "name": "stdout",
     "output_type": "stream",
     "text": [
      "```markdown\n",
      "# 🎥 ¿Por Qué Deberías Cambiar de Windows a Linux? 📉\n",
      "\n",
      "## Introducción\n",
      "\n",
      "**[00:00]** ¡Hola a todos! Hoy quiero presentarles por qué deberíamos considerar cambiar de Windows a Linux, principalmente debido a las últimas controversias que han surgido con la nueva característica de Windows, el \"Recall\". Acompáñenme mientras desglosamos este tema y evaluamos si vale la pena el cambio.\n",
      "\n",
      "## La Función de Recall en Windows\n",
      "\n",
      "**[00:20]** Como muchos ya saben, Windows está introduciendo una nueva función, el \"Recall\", que permite buscar contenido que has visto en el pasado y recuperar instantáneas de tu pantalla. Aunque suena fascinante, esta función también acarrea serias preocupaciones sobre privacidad y seguridad.\n",
      "\n",
      "**[01:00]** Hemos discutido en el pasado cómo \"Recall\" guarda capturas de pantalla continuamente, lo que podría ser explotado por hackers, especialmente después de que se descubriera una vulnerabilidad en la base de datos SQLite donde Recall almacena su información.\n",
      "\n",
      "## Problemas y Preocupaciones\n",
      "\n",
      "**[01:30]** El principal problema es la imposibilidad de desactivar esta función en las nuevas computadoras con Windows. Y eso es preocupante. Microsoft ha cambiado de postura varias veces, inicialmente haciéndola opcional tras un empuje negativo de la comunidad, pero últimamente se ha vuelto a decir que realmente no será posible desinstalar Recall cuando se lance oficialmente.\n",
      "\n",
      "## ¿Por Qué Considerar Linux?\n",
      "\n",
      "**[02:15]** Este constante vaivén y la falta de control es un reflejo de la pérdida de confianza de los usuarios en Windows y es la razón por la que muchos están migrando a Linux. Linux ofrece un ambiente más seguro y con completa disposición del usuario para elegir qué servicios están activos en su sistema. Es un antídoto contra la imposición de funciones como Recall, brindándote la libertad de manipular tu sistema a tu antojo.\n",
      "\n",
      "## ¿Qué Dice la Comunidad?\n",
      "\n",
      "**[03:00]** Recientemente, varios artículos han contradicho las afirmaciones de Microsoft sobre desactivar el Recall. Es un caos. Y si bien algunos reportes decían que existía un \"bug\" que permitía la desinstalación, parece que solo era un error que rápidamente fue corregido.\n",
      "\n",
      "## Una Solución Confiable\n",
      "\n",
      "**[03:45]** Linux es una opción atractiva para quienes valoran la privacidad y quieren un sistema operativo que no los obligue a aceptar funciones indeseadas. Con Linux, la elección y el control están en manos del usuario, no de alguna corporación.\n",
      "\n",
      "## Conclusión\n",
      "\n",
      "**[04:30]** Así que, ¿qué piensas tú? ¿Confías en que Microsoft mantendrá seguros tus datos con Recall? Personalmente, tengo mis reservas, y por eso muchos estamos mirando hacia Linux como la opción más viable y confiable.\n",
      "\n",
      "**[05:00]** Si te ha parecido interesante este video, no olvides darle a \"Me gusta\" y suscribirte para más contenido como este. También puedes unirte a nuestra comunidad en Discord para seguir la discusión. Agradezco tu tiempo y nos vemos en el próximo video.\n",
      "\n",
      "---\n",
      "\n",
      "Si quieres entender mejor Linux, ofrezco documentos desglosando términos cruciales, comandos y temas comunes en Linux. Visita [learn.savvynick.com](http://learn.savvynick.com) para elevar tu experiencia y conocimiento en Linux. ¡Hasta la próxima!\n",
      "```\n",
      "\n"
     ]
    },
    {
     "data": {
      "text/plain": [
       "'```markdown\\n# 🎥 ¿Por Qué Deberías Cambiar de Windows a Linux? 📉\\n\\n## Introducción\\n\\n**[00:00]** ¡Hola a todos! Hoy quiero presentarles por qué deberíamos considerar cambiar de Windows a Linux, principalmente debido a las últimas controversias que han surgido con la nueva característica de Windows, el \"Recall\". Acompáñenme mientras desglosamos este tema y evaluamos si vale la pena el cambio.\\n\\n## La Función de Recall en Windows\\n\\n**[00:20]** Como muchos ya saben, Windows está introduciendo una nueva función, el \"Recall\", que permite buscar contenido que has visto en el pasado y recuperar instantáneas de tu pantalla. Aunque suena fascinante, esta función también acarrea serias preocupaciones sobre privacidad y seguridad.\\n\\n**[01:00]** Hemos discutido en el pasado cómo \"Recall\" guarda capturas de pantalla continuamente, lo que podría ser explotado por hackers, especialmente después de que se descubriera una vulnerabilidad en la base de datos SQLite donde Recall almacena su información.\\n\\n## Problemas y Preocupaciones\\n\\n**[01:30]** El principal problema es la imposibilidad de desactivar esta función en las nuevas computadoras con Windows. Y eso es preocupante. Microsoft ha cambiado de postura varias veces, inicialmente haciéndola opcional tras un empuje negativo de la comunidad, pero últimamente se ha vuelto a decir que realmente no será posible desinstalar Recall cuando se lance oficialmente.\\n\\n## ¿Por Qué Considerar Linux?\\n\\n**[02:15]** Este constante vaivén y la falta de control es un reflejo de la pérdida de confianza de los usuarios en Windows y es la razón por la que muchos están migrando a Linux. Linux ofrece un ambiente más seguro y con completa disposición del usuario para elegir qué servicios están activos en su sistema. Es un antídoto contra la imposición de funciones como Recall, brindándote la libertad de manipular tu sistema a tu antojo.\\n\\n## ¿Qué Dice la Comunidad?\\n\\n**[03:00]** Recientemente, varios artículos han contradicho las afirmaciones de Microsoft sobre desactivar el Recall. Es un caos. Y si bien algunos reportes decían que existía un \"bug\" que permitía la desinstalación, parece que solo era un error que rápidamente fue corregido.\\n\\n## Una Solución Confiable\\n\\n**[03:45]** Linux es una opción atractiva para quienes valoran la privacidad y quieren un sistema operativo que no los obligue a aceptar funciones indeseadas. Con Linux, la elección y el control están en manos del usuario, no de alguna corporación.\\n\\n## Conclusión\\n\\n**[04:30]** Así que, ¿qué piensas tú? ¿Confías en que Microsoft mantendrá seguros tus datos con Recall? Personalmente, tengo mis reservas, y por eso muchos estamos mirando hacia Linux como la opción más viable y confiable.\\n\\n**[05:00]** Si te ha parecido interesante este video, no olvides darle a \"Me gusta\" y suscribirte para más contenido como este. También puedes unirte a nuestra comunidad en Discord para seguir la discusión. Agradezco tu tiempo y nos vemos en el próximo video.\\n\\n---\\n\\nSi quieres entender mejor Linux, ofrezco documentos desglosando términos cruciales, comandos y temas comunes en Linux. Visita [learn.savvynick.com](http://learn.savvynick.com) para elevar tu experiencia y conocimiento en Linux. ¡Hasta la próxima!\\n```\\n'"
      ]
     },
     "execution_count": 22,
     "metadata": {},
     "output_type": "execute_result"
    }
   ],
   "source": [
    "guion_video(transcribed_file)"
   ]
  },
  {
   "cell_type": "code",
   "execution_count": 25,
   "metadata": {},
   "outputs": [
    {
     "name": "stdout",
     "output_type": "stream",
     "text": [
      "descargar_solo_audio...\n",
      "[youtube] Extracting URL: https://youtu.be/q3J1ADFfb7c?si=gb1buPQn8ktQPBsO\n",
      "[youtube] q3J1ADFfb7c: Downloading webpage\n"
     ]
    },
    {
     "name": "stdout",
     "output_type": "stream",
     "text": [
      "[youtube] q3J1ADFfb7c: Downloading ios player API JSON\n",
      "[youtube] q3J1ADFfb7c: Downloading mweb player API JSON\n",
      "[youtube] q3J1ADFfb7c: Downloading m3u8 information\n",
      "Descarga de audio completa. Archivo guardado como: SER_vs_ESTAR_en_español_Cuándo_se_usan_Cómo_se_usan_Cuáles_son_las_diferencias_Explicación_.mp3\n",
      "Transcribiendo audio...Transcripción completa Hola a todos, bienvenidos otra vez a la Burbuja del Español. Yo soy Marta, soy vuestra profesora de español y en el vídeo de hoy vamos a estudiar una cosa muy importante, la diferencia entre los verbos SER y ESTAR. En otros vídeos anteriores hemos estudiado el verbo SER y el verbo ESTAR. Ahora podéis ir a ver el vídeo para repasar un poco. Hoy vamos a estudiar sólo la diferencia, porque se utilizan SER en unos casos y ESTAR en otros. Vamos a ver en cuáles. El verbo SER se utiliza para las características. El verbo SER define las características de las personas o de las cosas. Por ejemplo, yo soy una chica, yo soy española, esto es una pizarra, es grande, es blanca. Mientras que el verbo ESTAR habla de los estados de las personas o de las cosas. Por ejemplo, mi amiga está contenta, está feliz, pero la pizarra está sucia o está limpia. Otra diferencia importante entre SER y ESTAR. El verbo SER se utiliza para hablar de la profesión habitual, es decir, la profesión de la persona. Por ejemplo, yo soy profesora, tú eres médico, él es estudiante, ella es abogado. Mientras que el verbo ESTAR se utiliza para hablar de la profesión temporal, la ocupación temporal. ¿En qué sentido? Yo soy profesora siempre, pero ahora estoy de camarera en un restaurante, estoy de cajera en un supermercado, es una ocupación temporal. Otra diferencia. El verbo SER se utiliza para situar un evento en el espacio. Un evento puede ser una boda, puede ser un examen, puede ser una reunión, una conferencia. Por ejemplo, la reunión es en la facultad de idiomas. Mientras que el verbo ESTAR se utiliza para situar en el espacio una persona o un objeto. La reunión es en la facultad de lenguas. La facultad está en la plaza. ¿Dónde está Marta? Marta está en clase. Estas son algunas de las diferencias de SER y ESTAR, pero no os vayáis porque ahora hablamos de más. Ahora vemos algunas palabras, algunos adjetivos, que se pueden utilizar con el verbo SER o con el verbo ESTAR. Pero, atención, si los utilizo con el verbo SER, significan una cosa. Si los utilizo con el verbo ESTAR, significan otra cosa diferente. Los vemos uno por uno. Por ejemplo, abierto. Ser abierto significa ser una persona de carácter abierto, ser extrovertido. Yo soy abierta, soy extrovertida. Estar abierto es simplemente un estado. Por ejemplo, el libro está abierto. Cerrado. Ser cerrado también significa ser una persona de carácter cerrado, es decir, tímido, introvertido. Mientras que estar cerrado es el estado. El libro está cerrado. Listo. Ser listo se refiere a la característica personal. Yo soy lista significa yo soy inteligente. Estar listo es otra cosa diferente. Significa estar preparado. ¿Estás listo para estudiar? No, no estoy listo. Despierto. Ser una persona despierta significa también inteligente, lista rápidamente. Estar despierto significa no estar dormido. Es decir, yo estoy despierta ahora y tú también porque no estamos dormidos. Atento. Ser atento. Una persona es atenta cuando piensa siempre en las demás personas. Recuerdo los cumpleaños, recuerdo los días importantes. Llamo por teléfono para felicitar, hago un regalo, pregunto qué tal estás. Soy muy atenta. Estoy atenta en clase. ¿Estás atento? Seguro que sí. Verde. Ser verde es ser de color verde. ¿Cuál es el color verde? Este de aquí. Esto es verde. Estar verde es un estar. Significa que no estás listo, no estás preparado. Es decir, tengo un examen, no he estudiado, estoy verde. No estoy listo como la fruta cuando no está madura porque está verde. Vemos ahora más palabras, más adjetivos que se utilizan o con ser o con estar y significan cosas diferentes. Guapo. ¿Qué significa ser guapo? Una persona es guapa cuando tiene unas características físicas bonitas. Guapa. Tu novio es guapo seguro. Una persona está guapa cuando un día se viste, se peina, se maquilla. Está guapa ese día porque se ha puesto cosas bonitas. Es una diferencia que se refiere a la característica permanente de la persona. Yo soy muy guapa. O al estado temporal. Hoy estoy muy guapa. Bueno. Bueno habla de la persona. Una persona es buena cuando tiene buen corazón. Estar bueno habla de los alimentos. Por ejemplo, el chocolate está muy bueno. La pizza está muy buena. Los helados están muy buenos. Malo. Ser malo es lo contrario de ser bueno. Una persona con mal corazón. Estar malo también habla de la persona cuando está un poquito enferma, cuando tiene fiebre, tos, resfriado, está malo. Moreno. Una persona es morena cuando su característica física es pelo oscuro, piel oscura, es morena. Una persona está morena cuando en verano va a la playa y con el sol está morena. Solo por el sol. Yo no soy morena, no estoy morena. Nuevo. Una cosa es nueva cuando yo la he comprado hoy. Compro un vestido, el vestido es nuevo. Una cosa está nueva cuando no la he comprado hoy, pero parece nueva. Este vestido lo he comprado hace cinco años, pero está nuevo. Es el estado del objeto. Hemos terminado por hoy. Hoy en la burbuja del español hemos estudiado la diferencia entre el verbo ser y el verbo estar. Hemos estudiado cuándo se utiliza ser, cuándo se utiliza estar y unas palabras, unos adjetivos que se utilizan con los dos, pero con diferente significado. Si queréis repasar un poquito la conjugación del verbo ser o la conjugación del verbo estar, podéis ir a nuestros vídeos pasados donde los explicamos muy bien. Esto es todo, nos vemos en el próximo vídeo de la burbuja del español.\n",
      "Archivo de transcripción guardado como: transcribed_SER_vs_ESTAR_en_español_Cuándo_se_usan_Cómo_se_usan_Cuáles_son_las_diferencias_Explicación_.txt\n",
      "En el vídeo presentado por Marta, de La Burbuja del Español, se explora uno de los temas más desafiantes para los estudiantes de español: la diferencia entre los verbos \"ser\" y \"estar\". Ambos verbos significan \"to be\" en inglés, pero su uso varía según el contexto y el significado deseado.\n",
      "\n",
      "### Apartados Principales:\n",
      "\n",
      "1. **Diferencias Básicas:**\n",
      "   - **Ser:** Se utiliza para describir características permanentes de personas o cosas. Por ejemplo, \"yo soy española\" o \"esto es una pizarra\".\n",
      "   - **Estar:** Indica estados temporales de personas o cosas, tal como \"mi amiga está contenta\" o \"la pizarra está sucia\".\n",
      "\n",
      "2. **Uso en Profesiones:**\n",
      "   - **Ser:** Se emplea para hablar de profesiones habituales. Ejemplo: \"yo soy profesora\".\n",
      "   - **Estar:** Describe ocupaciones temporales, como en \"estoy de camarera\".\n",
      "\n",
      "3. **Localización de Eventos y Personas:**\n",
      "   - **Ser:** Se utiliza para situar un evento, como \"la reunión es en la facultad de idiomas\".\n",
      "   - **Estar:** Se usa para ubicar a personas u objetos, como \"Marta está en clase\".\n",
      "\n",
      "4. **Adjetivos con Doble Significado:**\n",
      "   Marta también explica cómo el cambio entre \"ser\" y \"estar\" puede alterar el significado de algunos adjetivos. Algunos ejemplos incluyen:\n",
      "   - **Abierto:** \"Ser abierto\" describe el carácter (extrovertido), y \"estar abierto\" indica el estado físico de algo (no cerrado).\n",
      "   - **Listo:** \"Ser listo\" implica ser inteligente, mientras que \"estar listo\" significa estar preparado.\n",
      "   - **Verde:** \"Ser verde\" describe el color, y \"estar verde\" implica no estar preparado.\n",
      "   - Otros adjetivos tales como guapo, bueno, malo, moreno, y nuevo también cambian de significado según el verbo que los acompañe, indicando ya sea una característica permanente o un estado temporal.\n",
      "\n",
      "### Conclusión:\n",
      "\n",
      "Marta concluye el vídeo enfatizando la importancia de entender estas diferencias para mejorar el dominio del español. Aunque ambos verbos se traducen como \"to be\" en inglés, su uso correcto refleja pensamientos más profundos relacionados con la permanencia o temporalidad de los aspectos descritos. Para aquellos que desean reforzar el aprendizaje, Marta invita a repasar los vídeos anteriores donde se abordan las conjugaciones de estos verbos. Este entendimiento es esencial para la correcta comunicación en situaciones de la vida diaria.\n"
     ]
    },
    {
     "data": {
      "text/plain": [
       "'En el vídeo presentado por Marta, de La Burbuja del Español, se explora uno de los temas más desafiantes para los estudiantes de español: la diferencia entre los verbos \"ser\" y \"estar\". Ambos verbos significan \"to be\" en inglés, pero su uso varía según el contexto y el significado deseado.\\n\\n### Apartados Principales:\\n\\n1. **Diferencias Básicas:**\\n   - **Ser:** Se utiliza para describir características permanentes de personas o cosas. Por ejemplo, \"yo soy española\" o \"esto es una pizarra\".\\n   - **Estar:** Indica estados temporales de personas o cosas, tal como \"mi amiga está contenta\" o \"la pizarra está sucia\".\\n\\n2. **Uso en Profesiones:**\\n   - **Ser:** Se emplea para hablar de profesiones habituales. Ejemplo: \"yo soy profesora\".\\n   - **Estar:** Describe ocupaciones temporales, como en \"estoy de camarera\".\\n\\n3. **Localización de Eventos y Personas:**\\n   - **Ser:** Se utiliza para situar un evento, como \"la reunión es en la facultad de idiomas\".\\n   - **Estar:** Se usa para ubicar a personas u objetos, como \"Marta está en clase\".\\n\\n4. **Adjetivos con Doble Significado:**\\n   Marta también explica cómo el cambio entre \"ser\" y \"estar\" puede alterar el significado de algunos adjetivos. Algunos ejemplos incluyen:\\n   - **Abierto:** \"Ser abierto\" describe el carácter (extrovertido), y \"estar abierto\" indica el estado físico de algo (no cerrado).\\n   - **Listo:** \"Ser listo\" implica ser inteligente, mientras que \"estar listo\" significa estar preparado.\\n   - **Verde:** \"Ser verde\" describe el color, y \"estar verde\" implica no estar preparado.\\n   - Otros adjetivos tales como guapo, bueno, malo, moreno, y nuevo también cambian de significado según el verbo que los acompañe, indicando ya sea una característica permanente o un estado temporal.\\n\\n### Conclusión:\\n\\nMarta concluye el vídeo enfatizando la importancia de entender estas diferencias para mejorar el dominio del español. Aunque ambos verbos se traducen como \"to be\" en inglés, su uso correcto refleja pensamientos más profundos relacionados con la permanencia o temporalidad de los aspectos descritos. Para aquellos que desean reforzar el aprendizaje, Marta invita a repasar los vídeos anteriores donde se abordan las conjugaciones de estos verbos. Este entendimiento es esencial para la correcta comunicación en situaciones de la vida diaria.'"
      ]
     },
     "execution_count": 25,
     "metadata": {},
     "output_type": "execute_result"
    }
   ],
   "source": [
    "url=\"https://youtu.be/q3J1ADFfb7c?si=gb1buPQn8ktQPBsO\"\n",
    "new_file_name=descargar_solo_audio(url)\n",
    "transcribed_file=transcribe(new_file_name)\n",
    "resumen_transcripcion(transcribed_file)\n"
   ]
  },
  {
   "cell_type": "code",
   "execution_count": null,
   "metadata": {},
   "outputs": [],
   "source": []
  }
 ],
 "metadata": {
  "kernelspec": {
   "display_name": ".venv",
   "language": "python",
   "name": "python3"
  },
  "language_info": {
   "codemirror_mode": {
    "name": "ipython",
    "version": 3
   },
   "file_extension": ".py",
   "mimetype": "text/x-python",
   "name": "python",
   "nbconvert_exporter": "python",
   "pygments_lexer": "ipython3",
   "version": "3.11.2"
  }
 },
 "nbformat": 4,
 "nbformat_minor": 2
}
