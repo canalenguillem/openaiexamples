{
 "cells": [
  {
   "cell_type": "code",
   "execution_count": 1,
   "metadata": {},
   "outputs": [
    {
     "name": "stdout",
     "output_type": "stream",
     "text": [
      "sk-k4L-ekOdHyqI-gsDCNzwFA2FmBAYESy0Efa8Q0VxKeT3BlbkFJJbUR6kIAznzulteemfY5iAnUlsRZwZTHowAc4P3e0A\n",
      "La clave de OpenAI se ha cargado correctamente.\n"
     ]
    }
   ],
   "source": [
    "import openai\n",
    "import os\n",
    "from dotenv import load_dotenv\n",
    "\n",
    "\n",
    "# Cargar las variables del archivo .env\n",
    "load_dotenv()\n",
    "\n",
    "# Obtener la clave de OpenAI\n",
    "openai_api_key = os.getenv(\"OPENAI_API_KEY\")\n",
    "\n",
    "# Verifica que la clave se ha cargado correctamente\n",
    "if openai_api_key:\n",
    "    print(\"La clave de OpenAI se ha cargado correctamente.\")\n",
    "else:\n",
    "    print(\"Error al cargar la clave de OpenAI.\")\n",
    "\n",
    "from openai import OpenAI\n",
    "client=OpenAI(api_key=openai_api_key)\n",
    "MODEL='gpt-3.5-turbo'"
   ]
  },
  {
   "cell_type": "code",
   "execution_count": 2,
   "metadata": {},
   "outputs": [],
   "source": [
    "def gpt_clasificar_sentimiento(prompt, emociones):\n",
    "    system_prompt = f'''Eres un asistente emocionalmente inteligente.\n",
    "    Clasifica el sentimiento del texto del usuario con SOLO UNA DE LAS SIGUIENTES EMOCIONES: {emociones}.\n",
    "    Después de clasificar el texto, responde SOLO con la emoción.'''\n",
    "    \n",
    "    response = client.chat.completions.create(\n",
    "        model=MODEL,\n",
    "        messages=[\n",
    "            {'role': 'system', 'content': system_prompt},\n",
    "            {'role': 'user', 'content': prompt}\n",
    "        ],\n",
    "        max_tokens=20, #solo queremos una respuesta\n",
    "        temperature=0 #tiene que ser deterministico\n",
    "    )\n",
    "    \n",
    "    r=response.choices[0].message.content\n",
    "    if r==\"\":\n",
    "        r='N/A'\n",
    "\n",
    "    return r\n"
   ]
  },
  {
   "cell_type": "code",
   "execution_count": 3,
   "metadata": {},
   "outputs": [
    {
     "name": "stdout",
     "output_type": "stream",
     "text": [
      "negativo\n"
     ]
    }
   ],
   "source": [
    "emociones = 'positivo, negativo'\n",
    "prompt = 'La IA dominará el mundo.'\n",
    "print(gpt_clasificar_sentimiento(prompt=prompt,emociones=emociones))\n"
   ]
  },
  {
   "cell_type": "code",
   "execution_count": 4,
   "metadata": {},
   "outputs": [
    {
     "name": "stdout",
     "output_type": "stream",
     "text": [
      "muy molesto\n"
     ]
    }
   ],
   "source": [
    "emociones = \"feliz, triste, enfadado, molesto, cansado, muy feliz, muy triste, muy enfadado, muy cansado, muy molesto\"\n",
    "prompt = \"He perdido mi teléfono.\"\n",
    "print(gpt_clasificar_sentimiento(prompt=prompt,emociones=emociones))\n"
   ]
  },
  {
   "cell_type": "code",
   "execution_count": 5,
   "metadata": {},
   "outputs": [
    {
     "name": "stdout",
     "output_type": "stream",
     "text": [
      "cansado\n"
     ]
    }
   ],
   "source": [
    "emociones = \"feliz, triste, enfadado, molesto, cansado, muy feliz, muy triste, muy enfadado, muy cansado, muy molesto\"\n",
    "prompt = \"He perdido mi teléfono.\"\n",
    "prompt = \"La IA dominará el mundo y extinguirá la raza humana.\"\n",
    "prompt = \"Me voy a dormir.\"\n",
    "prompt = \"¡Tomemos un descanso! ¡No puedo más!\"\n",
    "prompt = \"El CEO de la compañía casi pierde un bono de 10 millones de dólares, pero aún así obtuvo un aumento.\"\n",
    "prompt = \"😀\"\n",
    "prompt = \"😢\"\n",
    "prompt = \"😡\"\n",
    "prompt = \"😂\"\n",
    "prompt = \"😱\"\n",
    "prompt = \"🤔\"\n",
    "prompt = \"🥳\"\n",
    "prompt = \"😴\"\n",
    "\n",
    "\n",
    "print(gpt_clasificar_sentimiento(prompt, emociones))\n",
    "\n"
   ]
  },
  {
   "cell_type": "code",
   "execution_count": 6,
   "metadata": {},
   "outputs": [
    {
     "name": "stdout",
     "output_type": "stream",
     "text": [
      "La comida en este restaurante fue increíble, espec ... =====> POSITIVO\n"
     ]
    }
   ],
   "source": [
    "emociones = 'positivo, negativo'\n",
    "reseña = '''La comida en este restaurante fue increíble, especialmente el plato principal. \n",
    "El servicio fue rápido y el personal muy amable. \n",
    "El ambiente era acogedor y nos sentimos muy cómodos durante toda la cena.'''\n",
    "emoción = gpt_clasificar_sentimiento(reseña, emociones)\n",
    "print(f'{reseña[:50]} ... =====> {emoción.upper()}')\n"
   ]
  },
  {
   "cell_type": "code",
   "execution_count": 7,
   "metadata": {},
   "outputs": [
    {
     "name": "stdout",
     "output_type": "stream",
     "text": [
      "La experiencia en este restaurante fue decepcionan ... =====> NEGATIVO\n"
     ]
    }
   ],
   "source": [
    "emociones = 'positivo, negativo'\n",
    "reseña = '''La experiencia en este restaurante fue decepcionante. \n",
    "La comida llegó fría y el sabor no era nada especial. \n",
    "El servicio fue lento y el personal parecía desinteresado. No recomendaría este lugar.'''\n",
    "emoción = gpt_clasificar_sentimiento(reseña, emociones)\n",
    "print(f'{reseña[:50]} ... =====> {emoción.upper()}')\n"
   ]
  },
  {
   "cell_type": "code",
   "execution_count": 19,
   "metadata": {},
   "outputs": [
    {
     "name": "stdout",
     "output_type": "stream",
     "text": [
      "Los alunizajes fueron todos falsificados. =====> FALSO.\n",
      "La dieta carnívora es saludable. =====> FALSO\n",
      "La dieta vegana es saludable. =====> VERDADERO\n",
      "Elvis murió el 1977. =====> FALSO.\n",
      "Donald Trump es bueno para america. =====> FALSO\n",
      "kamala harris es buena para america. =====> VERDADERO\n",
      "Pedro Sánchez es bueno para España. =====> VERDADERO\n",
      "Pablo Iglesias el fundador del PSOE es bueno para España. =====> FALSO\n"
     ]
    }
   ],
   "source": [
    "emociones = 'Verdadero, Falso'\n",
    "prompt = 'Los alunizajes fueron todos falsificados.'\n",
    "emoción = gpt_clasificar_sentimiento(prompt, emociones)\n",
    "print(f'{prompt} =====> {emoción.upper()}')\n",
    "\n",
    "prompt = 'La dieta carnívora es saludable.'\n",
    "emoción = gpt_clasificar_sentimiento(prompt, emociones)\n",
    "print(f'{prompt} =====> {emoción.upper()}')\n",
    "\n",
    "prompt = 'La dieta vegana es saludable.'\n",
    "emoción = gpt_clasificar_sentimiento(prompt, emociones)\n",
    "print(f'{prompt} =====> {emoción.upper()}')\n",
    "\n",
    "prompt = 'Elvis murió el 1977.'\n",
    "emoción = gpt_clasificar_sentimiento(prompt, emociones)\n",
    "print(f'{prompt} =====> {emoción.upper()}')\n",
    "\n",
    "prompt = 'Donald Trump es bueno para america.'\n",
    "emoción = gpt_clasificar_sentimiento(prompt, emociones)\n",
    "print(f'{prompt} =====> {emoción.upper()}')\n",
    "\n",
    "prompt = 'kamala harris es buena para america.'\n",
    "emoción = gpt_clasificar_sentimiento(prompt, emociones)\n",
    "print(f'{prompt} =====> {emoción.upper()}')\n",
    "\n",
    "prompt = 'Pedro Sánchez es bueno para España.'\n",
    "emoción = gpt_clasificar_sentimiento(prompt, emociones)\n",
    "print(f'{prompt} =====> {emoción.upper()}')\n",
    "\n",
    "prompt = 'Pablo Iglesias el fundador del PSOE es bueno para España.'\n",
    "emoción = gpt_clasificar_sentimiento(prompt, emociones)\n",
    "print(f'{prompt} =====> {emoción.upper()}')\n"
   ]
  },
  {
   "cell_type": "code",
   "execution_count": null,
   "metadata": {},
   "outputs": [],
   "source": []
  }
 ],
 "metadata": {
  "kernelspec": {
   "display_name": ".venv",
   "language": "python",
   "name": "python3"
  },
  "language_info": {
   "codemirror_mode": {
    "name": "ipython",
    "version": 3
   },
   "file_extension": ".py",
   "mimetype": "text/x-python",
   "name": "python",
   "nbconvert_exporter": "python",
   "pygments_lexer": "ipython3",
   "version": "3.11.2"
  }
 },
 "nbformat": 4,
 "nbformat_minor": 2
}
