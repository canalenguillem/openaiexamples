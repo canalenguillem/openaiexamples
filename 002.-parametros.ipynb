{
 "cells": [
  {
   "cell_type": "code",
   "execution_count": 1,
   "metadata": {},
   "outputs": [
    {
     "name": "stdout",
     "output_type": "stream",
     "text": [
      "La clave de OpenAI se ha cargado correctamente.\n"
     ]
    }
   ],
   "source": [
    "from dotenv import load_dotenv\n",
    "import os\n",
    "\n",
    "# Cargar las variables del archivo .env\n",
    "load_dotenv()\n",
    "\n",
    "# Obtener la clave de OpenAI\n",
    "openai_api_key = os.getenv(\"OPENAI_API_KEY\")\n",
    "\n",
    "# Verifica que la clave se ha cargado correctamente\n",
    "if openai_api_key:\n",
    "    print(\"La clave de OpenAI se ha cargado correctamente.\")\n",
    "else:\n",
    "    print(\"Error al cargar la clave de OpenAI.\")"
   ]
  },
  {
   "cell_type": "code",
   "execution_count": 2,
   "metadata": {},
   "outputs": [],
   "source": [
    "from openai import OpenAI\n",
    "client=OpenAI(api_key=openai_api_key)\n",
    "MODEL='gpt-3.5-turbo'"
   ]
  },
  {
   "cell_type": "code",
   "execution_count": 8,
   "metadata": {},
   "outputs": [
    {
     "name": "stdout",
     "output_type": "stream",
     "text": [
      "¡Claro! Aquí tienes algunas sugerencias para monetizar tu canal de YouTube:\n",
      "\n",
      "1. **Inscribirte en el Programa de Socios de YouTube**: Este es el primer paso para empezar a ganar dinero en YouTube. Para calificar, tu canal debe cumplir con ciertos requisitos, como tener al menos 1,000 suscriptores y 4,000 horas de visualización en los últimos 12 meses.\n",
      "\n",
      "2. **Activar la monetización de tus videos**: Una vez que estés inscrito en el programa de socios, puedes activar la monetización en tus videos. Esto te permitirá ganar dinero a través de anuncios que se muestran antes, durante o después de tus videos.\n",
      "\n",
      "3. **Crear contenido atractivo y de calidad**: Cuanto más interesantes y útiles sean tus videos, más probabilidades tendrás de atraer a una audiencia fiel y ganar dinero a través de reproducciones y clics en los anuncios.\n",
      "\n",
      "4. **Utilizar otras formas de monetización**: Además de los ingresos por publicidad, puedes explorar otras fuentes de ingresos, como el marketing de afiliados, la creación de productos propios, ofrecer membresías a tus seguidores, patrocinios, entre otros.\n",
      "\n",
      "5. **Promocionar tu canal y aumentar tu audiencia**: Cuantas más personas vean tus videos, más dinero podrás ganar. Utiliza las redes sociales, colaboraciones con otros creadores, SEO en YouTube y otras estrategias de marketing para aumentar tu visibilidad.\n",
      "\n",
      "6. **Analizar tus métricas y adaptarte**: Utiliza las analíticas de YouTube para entender el comportamiento de tu audiencia, qué videos funcionan mejor, cuándo es el mejor momento para publicar, etc. Ajusta tu estrategia en base a estos datos para optimizar tus ingresos.\n",
      "\n",
      "Recuerda que monetizar un canal de YouTube requiere tiempo, dedicación y paciencia. ¡Buena suerte!\n"
     ]
    }
   ],
   "source": [
    "response = client.chat.completions.create(\n",
    "    model=MODEL,\n",
    "    messages=[\n",
    "        {'role':'system','content':'Eres un buen asistente de ayuda'},\n",
    "        {'role':'user','content':'Dame consejos para monetizar mi canal de youtube'},\n",
    "    ],\n",
    "    # temperature entre 0 y 2, por defecto 1 cuano más alto mayor la alucinación\n",
    "    temperature=1,\n",
    "    seed=1234\n",
    "    \n",
    ")\n",
    "print(response.choices[0].message.content)"
   ]
  },
  {
   "cell_type": "code",
   "execution_count": 13,
   "metadata": {},
   "outputs": [
    {
     "name": "stdout",
     "output_type": "stream",
     "text": [
      "¡Claro! Aquí tienes algunos consejos para monetizar tu canal de YouTube:\n",
      "\n",
      "1. Habilita la monetización: Para empezar a ganar dinero en YouTube, debes habilitar la monetización en tu canal. Esto te permitirá mostrar anuncios en tus videos y generar ingresos a través de ellos.\n",
      "\n",
      "2. Crea contenido de calidad: Es importante que tu contenido sea interesante, relevante y de alta calidad. Esto ayudará a atraer a más espectadores y a retener su atención, lo que a su vez aumentará tus ingresos por publicidad.\n",
      "\n",
      "3. Construye una audiencia fiel: Trabaja en construir una comunidad de seguidores comprometidos con tu contenido. Interactúa con ellos, responde a sus comentarios y preguntas, y manténlos informados sobre tus próximos videos.\n",
      "\n",
      "4. Colabora con otras marcas: Puedes colaborar con marcas relevantes para tu audiencia y promocionar sus productos o servicios en tus videos. Esto puede generar ingresos adicionales a través de acuerdos de patrocinio.\n",
      "\n",
      "5. Utiliza otras fuentes de ingresos: Además de la publicidad en YouTube, considera otras formas de generar ingresos, como la venta de productos o servicios relacionados con tu contenido, la creación de contenido exclusivo para suscriptores de pago, o la participación en programas de afiliados.\n",
      "\n",
      "Recuerda que la monetización en YouTube puede llevar tiempo y esfuerzo, pero con perseverancia y dedicación, puedes lograr que tu canal sea rentable. ¡Buena suerte!\n"
     ]
    }
   ],
   "source": [
    "response = client.chat.completions.create(\n",
    "    model=MODEL,\n",
    "    messages=[\n",
    "        {'role':'system','content':'Eres un buen asistente de ayuda'},\n",
    "        {'role':'user','content':'Dame consejos para monetizar mi canal de youtube'},\n",
    "    ],\n",
    "    # temperature entre 0 y 2, por defecto 1 cuano más alto mayor la alucinación\n",
    "    temperature=0.1,\n",
    "    seed=1234\n",
    "    \n",
    ")\n",
    "print(response.choices[0].message.content)\n",
    "print(f\"MODEL {MODEL}\")"
   ]
  },
  {
   "cell_type": "code",
   "execution_count": 14,
   "metadata": {},
   "outputs": [
    {
     "name": "stdout",
     "output_type": "stream",
     "text": [
      "None\n"
     ]
    }
   ],
   "source": [
    "print(response.system_fingerprint)"
   ]
  }
 ],
 "metadata": {
  "kernelspec": {
   "display_name": ".venv",
   "language": "python",
   "name": "python3"
  },
  "language_info": {
   "codemirror_mode": {
    "name": "ipython",
    "version": 3
   },
   "file_extension": ".py",
   "mimetype": "text/x-python",
   "name": "python",
   "nbconvert_exporter": "python",
   "pygments_lexer": "ipython3",
   "version": "3.12.5"
  }
 },
 "nbformat": 4,
 "nbformat_minor": 2
}
