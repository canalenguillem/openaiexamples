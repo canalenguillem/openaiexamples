{
 "cells": [
  {
   "cell_type": "code",
   "execution_count": 1,
   "metadata": {},
   "outputs": [
    {
     "name": "stdout",
     "output_type": "stream",
     "text": [
      "sk-k4L-ekOdHyqI-gsDCNzwFA2FmBAYESy0Efa8Q0VxKeT3BlbkFJJbUR6kIAznzulteemfY5iAnUlsRZwZTHowAc4P3e0A\n",
      "La clave de OpenAI se ha cargado correctamente.\n"
     ]
    }
   ],
   "source": [
    "from dotenv import load_dotenv\n",
    "import os\n",
    "\n",
    "# Cargar las variables del archivo .env\n",
    "load_dotenv()\n",
    "\n",
    "# Obtener la clave de OpenAI\n",
    "openai_api_key = os.getenv(\"OPENAI_API_KEY\")\n",
    "print(f\"{openai_api_key}\")\n",
    "\n",
    "# Verifica que la clave se ha cargado correctamente\n",
    "if openai_api_key:\n",
    "    print(\"La clave de OpenAI se ha cargado correctamente.\")\n",
    "else:\n",
    "    print(\"Error al cargar la clave de OpenAI.\")\n",
    "\n",
    "from openai import OpenAI\n",
    "client=OpenAI(api_key=openai_api_key)\n",
    "MODEL='gpt-4-turbo'\n"
   ]
  },
  {
   "cell_type": "code",
   "execution_count": 3,
   "metadata": {},
   "outputs": [
    {
     "name": "stdout",
     "output_type": "stream",
     "text": [
      "Para una dieta saludable, incluye una variedad de alimentos:\n",
      "\n",
      "1. **Frutas y verduras:** al menos 5 porciones al día.\n",
      "2. **Proteínas:** carnes magras, pescado, huevos, legumbres y nueces.\n",
      "3. **Granos enteros:** arroz integral, quinoa, avena y pan integral.\n",
      "4. **Lácteos:** opta por opciones bajas en grasa como yogur, leche y quesos.\n",
      "5. **Grasas saludables:** aceite de oliva, aguacates y semillas.\n",
      "\n",
      "Bebe suficiente agua, limita el azúcar, la sal y las grasas saturadas. Considera porciones adecuadas y mantén un equilibrio calórico según tu actividad física.\n",
      "Para ayudarte mejor, necesito que me digas qué ingredientes tienes.\n",
      "Puedes preparar un delicioso **chuletón de ternera con huevos fritos, champiñones salteados y manzanas caramelizadas**. Aquí te dejo la receta:\n",
      "\n",
      "### Ingredientes:\n",
      "- 1 chuletón de ternera\n",
      "- 2 huevos\n",
      "- 200 g de champiñones\n",
      "- 2 manzanas\n",
      "- Aceite de oliva\n",
      "- Sal y pimienta\n",
      "- Azúcar moreno (opcional para caramelizar las manzanas)\n",
      "\n",
      "### Instrucciones:\n",
      "\n",
      "1. **Preparar la carne:**\n",
      "   - Saca el chuletón del refrigerador al menos 20 minutos antes de cocinarlo para que alcance temperatura ambiente.\n",
      "   - Calienta una sartén a fuego alto y añade un poco de aceite de oliva.\n",
      "   - Sazona el chuletón con sal y pimienta al gusto.\n",
      "   - Cocina el chuletón según tu preferencia de término (3-5 minutos por lado para término medio).\n",
      "   - Deja reposar la carne unos minutos antes de cortarla.\n",
      "\n",
      "2. **Champiñones salteados:**\n",
      "   - Limpia y corta los champiñones en láminas.\n",
      "   - En una sartén a fuego medio-alto, añade un chorrito de aceite de oliva.\n",
      "   - Saltea los champiñones hasta que estén dorados y suaves. Sazona con sal y pimienta.\n",
      "\n",
      "3. **Huevos fritos:**\n",
      "   - En una sartén, calienta un poco de aceite de oliva.\n",
      "   - Rompe los huevos y fríelos a tu gusto. Sazona con sal y pimienta.\n",
      "\n",
      "4. **Manzanas caramelizadas:**\n",
      "   - Pela las manzanas y córtalas en rodajas.\n",
      "   - En una sartén a fuego medio, añade un poco de mantequilla y las manzanas.\n",
      "   - Espolvorea con un poco de azúcar moreno y cocina hasta que las manzanas estén doradas y caramelizadas.\n",
      "\n",
      "5. **Servir:**\n",
      "   - Coloca el chuletón en un plato y acompáñalo con los huevos fritos, los champiñones salteados y las manzanas caramelizadas.\n",
      "\n",
      "¡Disfruta de esta deliciosa y completa comida!\n",
      "Chat bot: bye bye!\n"
     ]
    }
   ],
   "source": [
    "import time\n",
    "questions=list()\n",
    "bot_responses=list()\n",
    "messages=list()\n",
    "\n",
    "system_prompt=\"Responde de la forma más concisa\"\n",
    "\n",
    "messages.append({'role':'system','content':system_prompt})\n",
    "\n",
    "while True:\n",
    "    current_question=input('Me:')\n",
    "    if current_question.lower() in ['exit','quit']:\n",
    "        print('Chat bot: bye bye!')\n",
    "        time.sleep(2)\n",
    "        break\n",
    "    if current_question == '':\n",
    "        continue\n",
    "    messages.append({'role':'user','content':current_question})\n",
    "\n",
    "    response = client.chat.completions.create(\n",
    "        model=MODEL,\n",
    "        messages=messages,\n",
    "        temperature=0.7\n",
    "    )\n",
    "    bot_response_1=response.choices[0].message.content\n",
    "    print(bot_response_1)\n",
    "    messages.append({'role':'assistant','content':bot_response_1})"
   ]
  },
  {
   "cell_type": "code",
   "execution_count": null,
   "metadata": {},
   "outputs": [],
   "source": []
  }
 ],
 "metadata": {
  "kernelspec": {
   "display_name": ".venv",
   "language": "python",
   "name": "python3"
  },
  "language_info": {
   "codemirror_mode": {
    "name": "ipython",
    "version": 3
   },
   "file_extension": ".py",
   "mimetype": "text/x-python",
   "name": "python",
   "nbconvert_exporter": "python",
   "pygments_lexer": "ipython3",
   "version": "3.11.4"
  }
 },
 "nbformat": 4,
 "nbformat_minor": 2
}
