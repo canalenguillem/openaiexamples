{
 "cells": [
  {
   "cell_type": "code",
   "execution_count": null,
   "metadata": {},
   "outputs": [],
   "source": [
    "from dotenv import load_dotenv\n",
    "import os\n",
    "\n",
    "# Cargar las variables del archivo .env\n",
    "load_dotenv()\n",
    "\n",
    "# Obtener la clave de OpenAI\n",
    "openai_api_key = os.getenv(\"OPENAI_API_KEY\")\n",
    "print(f\"{openai_api_key}\")\n",
    "\n",
    "# Verifica que la clave se ha cargado correctamente\n",
    "if openai_api_key:\n",
    "    print(\"La clave de OpenAI se ha cargado correctamente.\")\n",
    "else:\n",
    "    print(\"Error al cargar la clave de OpenAI.\")"
   ]
  },
  {
   "cell_type": "code",
   "execution_count": 3,
   "metadata": {},
   "outputs": [],
   "source": [
    "from openai import OpenAI\n",
    "client=OpenAI(api_key=openai_api_key)\n",
    "MODEL='gpt-4-turbo'"
   ]
  },
  {
   "cell_type": "code",
   "execution_count": null,
   "metadata": {},
   "outputs": [],
   "source": [
    "q1=\"Que alimentos son los mejores para comer cada dia, sin cereales de ningun tipo ni legumbres incluyendo carnes grasas y organos\"\n",
    "q2=\"realiza 2 recetas con estos alimentos\"\n",
    "q3=\"calcula las kcal de estas recetas\"\n",
    "\n",
    "#q1\n",
    "messages = [\n",
    "    {'role':'system','content':'Responde de la forma más concisa posible'},\n",
    "    {'role':'user','content':q1}\n",
    "]\n",
    "\n",
    "response = client.chat.completions.create(\n",
    "    model=MODEL,\n",
    "    messages=messages,\n",
    "    temperature=0.7\n",
    ")\n",
    "bot_response_1=response.choices[0].message.content\n",
    "print(bot_response_1)\n",
    "\n",
    "print()\n",
    "print(\"-\"*50)\n",
    "print()\n",
    "\n",
    "#q2\n",
    "messages = [\n",
    "    {'role':'system','content':'Responde de la forma más concisa posible'},\n",
    "    {'role':'user','content':q1},\n",
    "    {'role':'assistant','content':bot_response_1},\n",
    "    {'role':'user','content':q2}\n",
    "]\n",
    "\n",
    "response = client.chat.completions.create(\n",
    "    model=MODEL,\n",
    "    messages=messages,\n",
    "    temperature=0.7\n",
    ")\n",
    "bot_response_2=response.choices[0].message.content\n",
    "print(bot_response_2)"
   ]
  },
  {
   "cell_type": "code",
   "execution_count": null,
   "metadata": {},
   "outputs": [],
   "source": [
    "#q3\n",
    "messages = [\n",
    "    {'role':'system','content':'Responde de la forma más concisa posible'},\n",
    "    {'role':'user','content':q1},\n",
    "    {'role':'assistant','content':bot_response_1},\n",
    "    {'role':'user','content':q2},\n",
    "    {'role':'assistant','content':bot_response_2},\n",
    "    {'role':'user','content':q3}\n",
    "    \n",
    "]\n",
    "\n",
    "response = client.chat.completions.create(\n",
    "    model=MODEL,\n",
    "    messages=messages,\n",
    "    temperature=0.7\n",
    ")\n",
    "bot_response_3=response.choices[0].message.content\n",
    "print(bot_response_3)"
   ]
  },
  {
   "cell_type": "code",
   "execution_count": null,
   "metadata": {},
   "outputs": [],
   "source": []
  }
 ],
 "metadata": {
  "kernelspec": {
   "display_name": ".venv",
   "language": "python",
   "name": "python3"
  },
  "language_info": {
   "codemirror_mode": {
    "name": "ipython",
    "version": 3
   },
   "file_extension": ".py",
   "mimetype": "text/x-python",
   "name": "python",
   "nbconvert_exporter": "python",
   "pygments_lexer": "ipython3",
   "version": "3.11.4"
  }
 },
 "nbformat": 4,
 "nbformat_minor": 2
}
